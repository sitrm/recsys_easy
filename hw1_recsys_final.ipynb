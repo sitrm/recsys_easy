{
  "cells": [
    {
      "cell_type": "markdown",
      "id": "c865b610-e175-4e9f-be2f-995e43e45332",
      "metadata": {
        "id": "c865b610-e175-4e9f-be2f-995e43e45332"
      },
      "source": [
        "## ДЗ №1. Метрики и простейшие алгоритмы рекомендаций"
      ]
    },
    {
      "cell_type": "markdown",
      "id": "16ff81db-dc65-4d89-8c79-d4e2a6e71879",
      "metadata": {
        "id": "16ff81db-dc65-4d89-8c79-d4e2a6e71879"
      },
      "source": [
        "## Общая информация\n",
        "**Дата выдачи: 26.02.24 MSK**\n",
        "\n",
        "**Дедлайн: 4.03.24 MSK**"
      ]
    },
    {
      "cell_type": "code",
      "execution_count": 1,
      "id": "e5fbada3-40bc-4748-9897-1c0e15d7892a",
      "metadata": {
        "id": "e5fbada3-40bc-4748-9897-1c0e15d7892a"
      },
      "outputs": [],
      "source": [
        "import pandas as pd\n",
        "import numpy as np\n",
        "from matplotlib import pyplot as plt\n",
        "from tqdm.auto import tqdm\n",
        "from typing import List, Optional\n",
        "from metric_tests import run_tests\n",
        "\n",
        "%matplotlib inline"
      ]
    },
    {
      "cell_type": "markdown",
      "id": "4098f8b8-a49a-4a66-92e2-e75c7acc4988",
      "metadata": {
        "id": "4098f8b8-a49a-4a66-92e2-e75c7acc4988"
      },
      "source": [
        "## О задании\n",
        "\n",
        "В этой работе мы посмотрим на то, как работают самые простые модели для рекомендаций. Как правило, они не требуют построения специальных моделей, но даже так оказываются полезны в качестве бейзлайна. Попробуем сделать предсказания с помощью EASE. Это тоже довольно простой подход, но не стоит забывать, что сложные модели могут оказаться не лучшим выбором в условиях большого количества данных. Посчитаем метрики, построим графики и подумаем, насколько хорошо эти модели вообще решают поставленную задачу\n",
        "\n",
        "Мы будем работать с датасетом по рекомендации фильмов от Kion MTS, который был дан для соревнования. Сперва нужно его предобработать, эта часть повторяет то, что было на семинаре\n",
        "\n",
        "Датасет необходимо скачать: https://ods.ai/competitions/competition-recsys-21/data\n",
        "\n",
        "Оттуда нужны файлы `interactions.csv` и `items.csv`\n",
        "\n",
        "Каждое задание весит **1 балл**, если выполнено полностью и без ошибок, максимальная оценка - **10 баллов**. Шаблоны функций и классов можно менять по своему усмотрению"
      ]
    },
    {
      "cell_type": "code",
      "execution_count": 2,
      "id": "02af9415-838f-446e-80ed-f6083cc9cb27",
      "metadata": {
        "colab": {
          "base_uri": "https://localhost:8080/",
          "height": 206
        },
        "id": "02af9415-838f-446e-80ed-f6083cc9cb27",
        "outputId": "38e0880c-09b1-4b18-9477-6fc6d0ca0990"
      },
      "outputs": [
        {
          "data": {
            "text/html": [
              "<div>\n",
              "<style scoped>\n",
              "    .dataframe tbody tr th:only-of-type {\n",
              "        vertical-align: middle;\n",
              "    }\n",
              "\n",
              "    .dataframe tbody tr th {\n",
              "        vertical-align: top;\n",
              "    }\n",
              "\n",
              "    .dataframe thead th {\n",
              "        text-align: right;\n",
              "    }\n",
              "</style>\n",
              "<table border=\"1\" class=\"dataframe\">\n",
              "  <thead>\n",
              "    <tr style=\"text-align: right;\">\n",
              "      <th></th>\n",
              "      <th>user_id</th>\n",
              "      <th>item_id</th>\n",
              "      <th>last_watch_dt</th>\n",
              "      <th>total_dur</th>\n",
              "      <th>watched_pct</th>\n",
              "    </tr>\n",
              "  </thead>\n",
              "  <tbody>\n",
              "    <tr>\n",
              "      <th>0</th>\n",
              "      <td>176549</td>\n",
              "      <td>9506</td>\n",
              "      <td>2021-05-11</td>\n",
              "      <td>4250</td>\n",
              "      <td>72.0</td>\n",
              "    </tr>\n",
              "    <tr>\n",
              "      <th>1</th>\n",
              "      <td>699317</td>\n",
              "      <td>1659</td>\n",
              "      <td>2021-05-29</td>\n",
              "      <td>8317</td>\n",
              "      <td>100.0</td>\n",
              "    </tr>\n",
              "    <tr>\n",
              "      <th>2</th>\n",
              "      <td>656683</td>\n",
              "      <td>7107</td>\n",
              "      <td>2021-05-09</td>\n",
              "      <td>10</td>\n",
              "      <td>0.0</td>\n",
              "    </tr>\n",
              "    <tr>\n",
              "      <th>3</th>\n",
              "      <td>864613</td>\n",
              "      <td>7638</td>\n",
              "      <td>2021-07-05</td>\n",
              "      <td>14483</td>\n",
              "      <td>100.0</td>\n",
              "    </tr>\n",
              "    <tr>\n",
              "      <th>4</th>\n",
              "      <td>964868</td>\n",
              "      <td>9506</td>\n",
              "      <td>2021-04-30</td>\n",
              "      <td>6725</td>\n",
              "      <td>100.0</td>\n",
              "    </tr>\n",
              "  </tbody>\n",
              "</table>\n",
              "</div>"
            ],
            "text/plain": [
              "   user_id  item_id last_watch_dt  total_dur  watched_pct\n",
              "0   176549     9506    2021-05-11       4250         72.0\n",
              "1   699317     1659    2021-05-29       8317        100.0\n",
              "2   656683     7107    2021-05-09         10          0.0\n",
              "3   864613     7638    2021-07-05      14483        100.0\n",
              "4   964868     9506    2021-04-30       6725        100.0"
            ]
          },
          "execution_count": 2,
          "metadata": {},
          "output_type": "execute_result"
        }
      ],
      "source": [
        "df = pd.read_csv('./data/interactions.csv').iloc[:-1]\n",
        "df.head()"
      ]
    },
    {
      "cell_type": "code",
      "execution_count": 3,
      "id": "eeacc674",
      "metadata": {},
      "outputs": [
        {
          "data": {
            "text/plain": [
              "(5476250, 5)"
            ]
          },
          "execution_count": 3,
          "metadata": {},
          "output_type": "execute_result"
        }
      ],
      "source": [
        "df.shape"
      ]
    },
    {
      "cell_type": "code",
      "execution_count": 4,
      "id": "78153b4e-975b-4493-95e7-e503f7c68757",
      "metadata": {
        "colab": {
          "base_uri": "https://localhost:8080/",
          "height": 206
        },
        "id": "78153b4e-975b-4493-95e7-e503f7c68757",
        "outputId": "d4cdad47-aca2-4140-bf48-511b57b6ca9e"
      },
      "outputs": [
        {
          "name": "stdout",
          "output_type": "stream",
          "text": [
            "1    77 days\n",
            "2    57 days\n",
            "3   114 days\n",
            "Name: last_watch_dt, dtype: timedelta64[ns]\n"
          ]
        },
        {
          "data": {
            "text/html": [
              "<div>\n",
              "<style scoped>\n",
              "    .dataframe tbody tr th:only-of-type {\n",
              "        vertical-align: middle;\n",
              "    }\n",
              "\n",
              "    .dataframe tbody tr th {\n",
              "        vertical-align: top;\n",
              "    }\n",
              "\n",
              "    .dataframe thead th {\n",
              "        text-align: right;\n",
              "    }\n",
              "</style>\n",
              "<table border=\"1\" class=\"dataframe\">\n",
              "  <thead>\n",
              "    <tr style=\"text-align: right;\">\n",
              "      <th></th>\n",
              "      <th>user_id</th>\n",
              "      <th>item_id</th>\n",
              "      <th>last_watch_dt</th>\n",
              "      <th>total_dur</th>\n",
              "      <th>watched_pct</th>\n",
              "    </tr>\n",
              "  </thead>\n",
              "  <tbody>\n",
              "    <tr>\n",
              "      <th>2949672</th>\n",
              "      <td>496915</td>\n",
              "      <td>3076</td>\n",
              "      <td>98</td>\n",
              "      <td>46</td>\n",
              "      <td>1.0</td>\n",
              "    </tr>\n",
              "    <tr>\n",
              "      <th>2912223</th>\n",
              "      <td>854211</td>\n",
              "      <td>13865</td>\n",
              "      <td>102</td>\n",
              "      <td>1179</td>\n",
              "      <td>19.0</td>\n",
              "    </tr>\n",
              "    <tr>\n",
              "      <th>3721081</th>\n",
              "      <td>1036602</td>\n",
              "      <td>9327</td>\n",
              "      <td>141</td>\n",
              "      <td>887</td>\n",
              "      <td>17.0</td>\n",
              "    </tr>\n",
              "    <tr>\n",
              "      <th>2592953</th>\n",
              "      <td>962309</td>\n",
              "      <td>12615</td>\n",
              "      <td>112</td>\n",
              "      <td>242</td>\n",
              "      <td>0.0</td>\n",
              "    </tr>\n",
              "    <tr>\n",
              "      <th>4716210</th>\n",
              "      <td>487600</td>\n",
              "      <td>1873</td>\n",
              "      <td>133</td>\n",
              "      <td>240</td>\n",
              "      <td>5.0</td>\n",
              "    </tr>\n",
              "  </tbody>\n",
              "</table>\n",
              "</div>"
            ],
            "text/plain": [
              "         user_id  item_id  last_watch_dt  total_dur  watched_pct\n",
              "2949672   496915     3076             98         46          1.0\n",
              "2912223   854211    13865            102       1179         19.0\n",
              "3721081  1036602     9327            141        887         17.0\n",
              "2592953   962309    12615            112        242          0.0\n",
              "4716210   487600     1873            133        240          5.0"
            ]
          },
          "execution_count": 4,
          "metadata": {},
          "output_type": "execute_result"
        }
      ],
      "source": [
        "df['last_watch_dt'] = (pd.to_datetime(df['last_watch_dt']) - pd.to_datetime(df['last_watch_dt']).min()) # приводим данные к относительным значениям(относительно min)\n",
        "print(df['last_watch_dt'][1:4])\n",
        "df['last_watch_dt'] = df.last_watch_dt.apply(lambda x: int(str(x).split()[0])) # перевели d целые числа \n",
        "df.sample(5)"
      ]
    },
    {
      "cell_type": "code",
      "execution_count": 5,
      "id": "3400079d",
      "metadata": {},
      "outputs": [
        {
          "data": {
            "text/html": [
              "<div>\n",
              "<style scoped>\n",
              "    .dataframe tbody tr th:only-of-type {\n",
              "        vertical-align: middle;\n",
              "    }\n",
              "\n",
              "    .dataframe tbody tr th {\n",
              "        vertical-align: top;\n",
              "    }\n",
              "\n",
              "    .dataframe thead th {\n",
              "        text-align: right;\n",
              "    }\n",
              "</style>\n",
              "<table border=\"1\" class=\"dataframe\">\n",
              "  <thead>\n",
              "    <tr style=\"text-align: right;\">\n",
              "      <th></th>\n",
              "      <th>user_id</th>\n",
              "      <th>item_id</th>\n",
              "      <th>last_watch_dt</th>\n",
              "      <th>total_dur</th>\n",
              "      <th>watched_pct</th>\n",
              "    </tr>\n",
              "  </thead>\n",
              "  <tbody>\n",
              "    <tr>\n",
              "      <th>0</th>\n",
              "      <td>176549</td>\n",
              "      <td>9506</td>\n",
              "      <td>59</td>\n",
              "      <td>4250</td>\n",
              "      <td>72.0</td>\n",
              "    </tr>\n",
              "    <tr>\n",
              "      <th>1</th>\n",
              "      <td>699317</td>\n",
              "      <td>1659</td>\n",
              "      <td>77</td>\n",
              "      <td>8317</td>\n",
              "      <td>100.0</td>\n",
              "    </tr>\n",
              "    <tr>\n",
              "      <th>2</th>\n",
              "      <td>656683</td>\n",
              "      <td>7107</td>\n",
              "      <td>57</td>\n",
              "      <td>10</td>\n",
              "      <td>0.0</td>\n",
              "    </tr>\n",
              "    <tr>\n",
              "      <th>3</th>\n",
              "      <td>864613</td>\n",
              "      <td>7638</td>\n",
              "      <td>114</td>\n",
              "      <td>14483</td>\n",
              "      <td>100.0</td>\n",
              "    </tr>\n",
              "    <tr>\n",
              "      <th>4</th>\n",
              "      <td>964868</td>\n",
              "      <td>9506</td>\n",
              "      <td>48</td>\n",
              "      <td>6725</td>\n",
              "      <td>100.0</td>\n",
              "    </tr>\n",
              "  </tbody>\n",
              "</table>\n",
              "</div>"
            ],
            "text/plain": [
              "   user_id  item_id  last_watch_dt  total_dur  watched_pct\n",
              "0   176549     9506             59       4250         72.0\n",
              "1   699317     1659             77       8317        100.0\n",
              "2   656683     7107             57         10          0.0\n",
              "3   864613     7638            114      14483        100.0\n",
              "4   964868     9506             48       6725        100.0"
            ]
          },
          "execution_count": 5,
          "metadata": {},
          "output_type": "execute_result"
        }
      ],
      "source": [
        "df.head()"
      ]
    },
    {
      "cell_type": "markdown",
      "id": "DnuIUsrRj0Tk",
      "metadata": {
        "id": "DnuIUsrRj0Tk"
      },
      "source": [
        "Сделаем разбиение по времени"
      ]
    },
    {
      "cell_type": "code",
      "execution_count": 6,
      "id": "1a0df672-7a64-4ba7-aea2-9aed9c13ecb6",
      "metadata": {
        "colab": {
          "base_uri": "https://localhost:8080/",
          "height": 447
        },
        "id": "1a0df672-7a64-4ba7-aea2-9aed9c13ecb6",
        "outputId": "6991b14a-91a5-4f3a-8f28-c5914132839a"
      },
      "outputs": [
        {
          "data": {
            "text/plain": [
              "<Axes: >"
            ]
          },
          "execution_count": 6,
          "metadata": {},
          "output_type": "execute_result"
        },
        {
          "data": {
            "image/png": "[encoded data removed]",
            "text/plain": [
              "<Figure size 640x480 with 1 Axes>"
            ]
          },
          "metadata": {},
          "output_type": "display_data"
        }
      ],
      "source": [
        "df.last_watch_dt.hist(bins=70)"
      ]
    },
    {
      "cell_type": "code",
      "execution_count": 7,
      "id": "1017b62e-68ce-4bfb-b44f-9e1b391aa08b",
      "metadata": {
        "colab": {
          "base_uri": "https://localhost:8080/"
        },
        "id": "1017b62e-68ce-4bfb-b44f-9e1b391aa08b",
        "outputId": "730db660-a2f0-4f12-f54c-b794f299a41b"
      },
      "outputs": [
        {
          "name": "stdout",
          "output_type": "stream",
          "text": [
            "число людей и в train и в test:  134670\n",
            "число людей всего в train: 880449\n"
          ]
        }
      ],
      "source": [
        "train_df = df.loc[(df.last_watch_dt < 160-7)].copy()\n",
        "test_df = df.loc[(df.last_watch_dt >= 160-7)].copy()\n",
        "\n",
        "train_users = train_df.user_id.unique()\n",
        "test_users = test_df.user_id.unique()\n",
        "\n",
        "all_included = np.intersect1d(train_users, test_users) #пересечения уникальных пользовательских идентификаторов между `train_users` и `test_users`\n",
        "\n",
        "print('число людей и в train и в test: ', all_included.shape[0]) # пересечений\n",
        "print('число людей всего в train:', train_users.shape[0]) "
      ]
    },
    {
      "cell_type": "code",
      "execution_count": 8,
      "id": "602e35d6",
      "metadata": {},
      "outputs": [
        {
          "data": {
            "text/plain": [
              "array([      3,       9,      17, ..., 1097521, 1097525, 1097544],\n",
              "      dtype=int64)"
            ]
          },
          "execution_count": 8,
          "metadata": {},
          "output_type": "execute_result"
        }
      ],
      "source": [
        "all_included"
      ]
    },
    {
      "cell_type": "code",
      "execution_count": 9,
      "id": "8f30d288-bdd7-4304-81ef-61c3b9b75ac9",
      "metadata": {
        "colab": {
          "base_uri": "https://localhost:8080/"
        },
        "id": "8f30d288-bdd7-4304-81ef-61c3b9b75ac9",
        "outputId": "56b765fb-2bfb-47e1-bf06-c594bde79921"
      },
      "outputs": [
        {
          "data": {
            "text/plain": [
              "0.37768022181146027"
            ]
          },
          "execution_count": 9,
          "metadata": {},
          "output_type": "execute_result"
        }
      ],
      "source": [
        "len(set(test_users) - set(train_users)) / len(test_users) #уникальных пользователей из множества test_users, которые отсутствуют в множестве train_users.\n",
        "#доля пользователей, которые есть только в тестовом наборе."
      ]
    },
    {
      "cell_type": "code",
      "execution_count": 10,
      "id": "4c050302",
      "metadata": {},
      "outputs": [
        {
          "data": {
            "text/plain": [
              "0.8470439514384138"
            ]
          },
          "execution_count": 10,
          "metadata": {},
          "output_type": "execute_result"
        }
      ],
      "source": [
        "len(set(train_users) - set(test_users)) / len(train_users) # доля пользователей, которые есть только в train"
      ]
    },
    {
      "cell_type": "markdown",
      "id": "de1eb6f2-f78c-4403-aebd-a0561a049360",
      "metadata": {
        "id": "de1eb6f2-f78c-4403-aebd-a0561a049360"
      },
      "source": [
        "И переведём всё к соединённому датасету"
      ]
    },
    {
      "cell_type": "code",
      "execution_count": 11,
      "id": "3686c2f1-9a9b-4684-b3d3-06c891252549",
      "metadata": {
        "id": "3686c2f1-9a9b-4684-b3d3-06c891252549"
      },
      "outputs": [],
      "source": [
        "n_users = 10000\n",
        "\n",
        "all_included = np.random.choice(all_included, size=n_users, replace=False)\n",
        "\n",
        "train_df = train_df.loc[train_df.user_id.isin(all_included)].copy() # уникальных пользователей из массива `all_included` без повторений.\n",
        "test_df = test_df.loc[test_df.user_id.isin(all_included)].copy() \n",
        "\n",
        "assert train_df.last_watch_dt.max() < test_df.last_watch_dt.min() # максимальная дата в тренировочном наборе меньше минимальной даты в тестовом наборе\n",
        "assert train_df.user_id.nunique() == n_users\n",
        "assert test_df.user_id.nunique() == n_users"
      ]
    },
    {
      "cell_type": "code",
      "execution_count": 12,
      "id": "1c995549-bc88-4af3-a8ce-ca19baa30ee2",
      "metadata": {
        "colab": {
          "base_uri": "https://localhost:8080/",
          "height": 206
        },
        "id": "1c995549-bc88-4af3-a8ce-ca19baa30ee2",
        "outputId": "b0e5cd25-3f51-457a-808f-ccd23a4c677d"
      },
      "outputs": [
        {
          "data": {
            "text/html": [
              "<div>\n",
              "<style scoped>\n",
              "    .dataframe tbody tr th:only-of-type {\n",
              "        vertical-align: middle;\n",
              "    }\n",
              "\n",
              "    .dataframe tbody tr th {\n",
              "        vertical-align: top;\n",
              "    }\n",
              "\n",
              "    .dataframe thead th {\n",
              "        text-align: right;\n",
              "    }\n",
              "</style>\n",
              "<table border=\"1\" class=\"dataframe\">\n",
              "  <thead>\n",
              "    <tr style=\"text-align: right;\">\n",
              "      <th></th>\n",
              "      <th>user_id</th>\n",
              "      <th>item_id</th>\n",
              "      <th>last_watch_dt</th>\n",
              "      <th>total_dur</th>\n",
              "      <th>watched_pct</th>\n",
              "    </tr>\n",
              "  </thead>\n",
              "  <tbody>\n",
              "    <tr>\n",
              "      <th>28</th>\n",
              "      <td>81786</td>\n",
              "      <td>2616</td>\n",
              "      <td>133</td>\n",
              "      <td>41422</td>\n",
              "      <td>90.0</td>\n",
              "    </tr>\n",
              "    <tr>\n",
              "      <th>73</th>\n",
              "      <td>820464</td>\n",
              "      <td>3071</td>\n",
              "      <td>35</td>\n",
              "      <td>4708</td>\n",
              "      <td>80.0</td>\n",
              "    </tr>\n",
              "    <tr>\n",
              "      <th>123</th>\n",
              "      <td>514235</td>\n",
              "      <td>8391</td>\n",
              "      <td>147</td>\n",
              "      <td>3570</td>\n",
              "      <td>57.0</td>\n",
              "    </tr>\n",
              "    <tr>\n",
              "      <th>139</th>\n",
              "      <td>447592</td>\n",
              "      <td>1241</td>\n",
              "      <td>126</td>\n",
              "      <td>127</td>\n",
              "      <td>3.0</td>\n",
              "    </tr>\n",
              "    <tr>\n",
              "      <th>187</th>\n",
              "      <td>138337</td>\n",
              "      <td>11134</td>\n",
              "      <td>145</td>\n",
              "      <td>614</td>\n",
              "      <td>14.0</td>\n",
              "    </tr>\n",
              "  </tbody>\n",
              "</table>\n",
              "</div>"
            ],
            "text/plain": [
              "     user_id  item_id  last_watch_dt  total_dur  watched_pct\n",
              "28     81786     2616            133      41422         90.0\n",
              "73    820464     3071             35       4708         80.0\n",
              "123   514235     8391            147       3570         57.0\n",
              "139   447592     1241            126        127          3.0\n",
              "187   138337    11134            145        614         14.0"
            ]
          },
          "execution_count": 12,
          "metadata": {},
          "output_type": "execute_result"
        }
      ],
      "source": [
        "train_df.head()"
      ]
    },
    {
      "cell_type": "code",
      "execution_count": 14,
      "id": "4a1e9f17-02e9-4c7f-aa54-4a331b7244b2",
      "metadata": {
        "colab": {
          "base_uri": "https://localhost:8080/",
          "height": 206
        },
        "id": "4a1e9f17-02e9-4c7f-aa54-4a331b7244b2",
        "outputId": "6210ca52-f2a5-4594-d20f-8e17a3a27046"
      },
      "outputs": [
        {
          "data": {
            "text/html": [
              "<div>\n",
              "<style scoped>\n",
              "    .dataframe tbody tr th:only-of-type {\n",
              "        vertical-align: middle;\n",
              "    }\n",
              "\n",
              "    .dataframe tbody tr th {\n",
              "        vertical-align: top;\n",
              "    }\n",
              "\n",
              "    .dataframe thead th {\n",
              "        text-align: right;\n",
              "    }\n",
              "</style>\n",
              "<table border=\"1\" class=\"dataframe\">\n",
              "  <thead>\n",
              "    <tr style=\"text-align: right;\">\n",
              "      <th></th>\n",
              "      <th>user_id</th>\n",
              "      <th>train_interactions</th>\n",
              "    </tr>\n",
              "  </thead>\n",
              "  <tbody>\n",
              "    <tr>\n",
              "      <th>0</th>\n",
              "      <td>53</td>\n",
              "      <td>[(13865, 110), (7571, 110), (10440, 115), (161...</td>\n",
              "    </tr>\n",
              "    <tr>\n",
              "      <th>1</th>\n",
              "      <td>119</td>\n",
              "      <td>[(9728, 134), (4436, 135)]</td>\n",
              "    </tr>\n",
              "    <tr>\n",
              "      <th>2</th>\n",
              "      <td>144</td>\n",
              "      <td>[(9728, 126), (13865, 128), (741, 130), (15297...</td>\n",
              "    </tr>\n",
              "    <tr>\n",
              "      <th>3</th>\n",
              "      <td>229</td>\n",
              "      <td>[(11275, 110), (4151, 110), (1699, 126), (1460...</td>\n",
              "    </tr>\n",
              "    <tr>\n",
              "      <th>4</th>\n",
              "      <td>304</td>\n",
              "      <td>[(11985, 71), (2301, 71), (175, 75), (4457, 99...</td>\n",
              "    </tr>\n",
              "  </tbody>\n",
              "</table>\n",
              "</div>"
            ],
            "text/plain": [
              "   user_id                                 train_interactions\n",
              "0       53  [(13865, 110), (7571, 110), (10440, 115), (161...\n",
              "1      119                         [(9728, 134), (4436, 135)]\n",
              "2      144  [(9728, 126), (13865, 128), (741, 130), (15297...\n",
              "3      229  [(11275, 110), (4151, 110), (1699, 126), (1460...\n",
              "4      304  [(11985, 71), (2301, 71), (175, 75), (4457, 99..."
            ]
          },
          "execution_count": 14,
          "metadata": {},
          "output_type": "execute_result"
        }
      ],
      "source": [
        "train_grouped = train_df.groupby('user_id').apply(\n",
        "    lambda x: [(t1, t2) for t1, t2 in sorted(zip(x.item_id, x.last_watch_dt), key=lambda x: x[1])] ).reset_index()\n",
        "train_grouped.rename({0:'train_interactions'}, axis=1, inplace=True)\n",
        "#  train_df группируется по 'user_id', после чего для каждой группы для каждого пользователя создается \n",
        "# список кортежей (t1, t2), где t1 - это значение 'item_id', а t2 - значение 'last_watch_dt', отсортированные по возрастанию даты\n",
        "test_grouped = test_df.groupby('user_id').apply(\n",
        "    lambda x: [(t1, t2) for t1, t2 in sorted(zip(x.item_id, x.last_watch_dt), key=lambda x: x[1])] ).reset_index()\n",
        "test_grouped.rename({0:'test_interactions'}, axis=1, inplace=True)\n",
        "#сводные таблицы для тренировочного и тестового наборов данных, содержащие отсортированные интеракции пользователей с товарами по времени просмотра!!!\n",
        "train_grouped.head()"
      ]
    },
    {
      "cell_type": "code",
      "execution_count": 15,
      "id": "594ade13-ff8b-4ded-9c73-00ea48be4bd9",
      "metadata": {
        "colab": {
          "base_uri": "https://localhost:8080/",
          "height": 206
        },
        "id": "594ade13-ff8b-4ded-9c73-00ea48be4bd9",
        "outputId": "1e4c65ad-171a-497e-f65d-0af5bd96c90d"
      },
      "outputs": [
        {
          "data": {
            "text/html": [
              "<div>\n",
              "<style scoped>\n",
              "    .dataframe tbody tr th:only-of-type {\n",
              "        vertical-align: middle;\n",
              "    }\n",
              "\n",
              "    .dataframe tbody tr th {\n",
              "        vertical-align: top;\n",
              "    }\n",
              "\n",
              "    .dataframe thead th {\n",
              "        text-align: right;\n",
              "    }\n",
              "</style>\n",
              "<table border=\"1\" class=\"dataframe\">\n",
              "  <thead>\n",
              "    <tr style=\"text-align: right;\">\n",
              "      <th></th>\n",
              "      <th>user_id</th>\n",
              "      <th>train_interactions</th>\n",
              "      <th>test_interactions</th>\n",
              "    </tr>\n",
              "  </thead>\n",
              "  <tbody>\n",
              "    <tr>\n",
              "      <th>0</th>\n",
              "      <td>53</td>\n",
              "      <td>[(13865, 110), (7571, 110), (10440, 115), (161...</td>\n",
              "      <td>[(16426, 155), (1445, 157), (15629, 157), (158...</td>\n",
              "    </tr>\n",
              "    <tr>\n",
              "      <th>1</th>\n",
              "      <td>119</td>\n",
              "      <td>[(9728, 134), (4436, 135)]</td>\n",
              "      <td>[(4266, 154), (15719, 154), (3999, 154)]</td>\n",
              "    </tr>\n",
              "    <tr>\n",
              "      <th>2</th>\n",
              "      <td>144</td>\n",
              "      <td>[(9728, 126), (13865, 128), (741, 130), (15297...</td>\n",
              "      <td>[(4151, 155), (10942, 157), (8821, 157), (3734...</td>\n",
              "    </tr>\n",
              "    <tr>\n",
              "      <th>3</th>\n",
              "      <td>229</td>\n",
              "      <td>[(11275, 110), (4151, 110), (1699, 126), (1460...</td>\n",
              "      <td>[(14910, 153), (10440, 160), (3697, 161)]</td>\n",
              "    </tr>\n",
              "    <tr>\n",
              "      <th>4</th>\n",
              "      <td>304</td>\n",
              "      <td>[(11985, 71), (2301, 71), (175, 75), (4457, 99...</td>\n",
              "      <td>[(6054, 161), (4073, 161)]</td>\n",
              "    </tr>\n",
              "  </tbody>\n",
              "</table>\n",
              "</div>"
            ],
            "text/plain": [
              "   user_id                                 train_interactions  \\\n",
              "0       53  [(13865, 110), (7571, 110), (10440, 115), (161...   \n",
              "1      119                         [(9728, 134), (4436, 135)]   \n",
              "2      144  [(9728, 126), (13865, 128), (741, 130), (15297...   \n",
              "3      229  [(11275, 110), (4151, 110), (1699, 126), (1460...   \n",
              "4      304  [(11985, 71), (2301, 71), (175, 75), (4457, 99...   \n",
              "\n",
              "                                   test_interactions  \n",
              "0  [(16426, 155), (1445, 157), (15629, 157), (158...  \n",
              "1           [(4266, 154), (15719, 154), (3999, 154)]  \n",
              "2  [(4151, 155), (10942, 157), (8821, 157), (3734...  \n",
              "3          [(14910, 153), (10440, 160), (3697, 161)]  \n",
              "4                         [(6054, 161), (4073, 161)]  "
            ]
          },
          "execution_count": 15,
          "metadata": {},
          "output_type": "execute_result"
        }
      ],
      "source": [
        "joined = train_grouped.merge(test_grouped)\n",
        "joined.head()"
      ]
    },
    {
      "cell_type": "code",
      "execution_count": 16,
      "id": "dd2ee6a6-914c-4f2d-91c8-c80bde97d84e",
      "metadata": {
        "colab": {
          "base_uri": "https://localhost:8080/",
          "height": 293
        },
        "id": "dd2ee6a6-914c-4f2d-91c8-c80bde97d84e",
        "outputId": "27bc3f05-b1b4-4bf8-de05-04ea850a7c28"
      },
      "outputs": [
        {
          "data": {
            "text/html": [
              "<div>\n",
              "<style scoped>\n",
              "    .dataframe tbody tr th:only-of-type {\n",
              "        vertical-align: middle;\n",
              "    }\n",
              "\n",
              "    .dataframe tbody tr th {\n",
              "        vertical-align: top;\n",
              "    }\n",
              "\n",
              "    .dataframe thead th {\n",
              "        text-align: right;\n",
              "    }\n",
              "</style>\n",
              "<table border=\"1\" class=\"dataframe\">\n",
              "  <thead>\n",
              "    <tr style=\"text-align: right;\">\n",
              "      <th></th>\n",
              "      <th>user_id</th>\n",
              "      <th>train_interactions</th>\n",
              "      <th>test_interactions</th>\n",
              "      <th>random_recs</th>\n",
              "    </tr>\n",
              "  </thead>\n",
              "  <tbody>\n",
              "    <tr>\n",
              "      <th>0</th>\n",
              "      <td>53</td>\n",
              "      <td>[(13865, 110), (7571, 110), (10440, 115), (161...</td>\n",
              "      <td>[(16426, 155), (1445, 157), (15629, 157), (158...</td>\n",
              "      <td>[12325, 13290, 13609]</td>\n",
              "    </tr>\n",
              "    <tr>\n",
              "      <th>1</th>\n",
              "      <td>119</td>\n",
              "      <td>[(9728, 134), (4436, 135)]</td>\n",
              "      <td>[(4266, 154), (15719, 154), (3999, 154)]</td>\n",
              "      <td>[12325, 13290, 13609]</td>\n",
              "    </tr>\n",
              "    <tr>\n",
              "      <th>2</th>\n",
              "      <td>144</td>\n",
              "      <td>[(9728, 126), (13865, 128), (741, 130), (15297...</td>\n",
              "      <td>[(4151, 155), (10942, 157), (8821, 157), (3734...</td>\n",
              "      <td>[12325, 13290, 13609]</td>\n",
              "    </tr>\n",
              "    <tr>\n",
              "      <th>3</th>\n",
              "      <td>229</td>\n",
              "      <td>[(11275, 110), (4151, 110), (1699, 126), (1460...</td>\n",
              "      <td>[(14910, 153), (10440, 160), (3697, 161)]</td>\n",
              "      <td>[12325, 13290, 13609]</td>\n",
              "    </tr>\n",
              "    <tr>\n",
              "      <th>4</th>\n",
              "      <td>304</td>\n",
              "      <td>[(11985, 71), (2301, 71), (175, 75), (4457, 99...</td>\n",
              "      <td>[(6054, 161), (4073, 161)]</td>\n",
              "      <td>[12325, 13290, 13609]</td>\n",
              "    </tr>\n",
              "  </tbody>\n",
              "</table>\n",
              "</div>"
            ],
            "text/plain": [
              "   user_id                                 train_interactions  \\\n",
              "0       53  [(13865, 110), (7571, 110), (10440, 115), (161...   \n",
              "1      119                         [(9728, 134), (4436, 135)]   \n",
              "2      144  [(9728, 126), (13865, 128), (741, 130), (15297...   \n",
              "3      229  [(11275, 110), (4151, 110), (1699, 126), (1460...   \n",
              "4      304  [(11985, 71), (2301, 71), (175, 75), (4457, 99...   \n",
              "\n",
              "                                   test_interactions            random_recs  \n",
              "0  [(16426, 155), (1445, 157), (15629, 157), (158...  [12325, 13290, 13609]  \n",
              "1           [(4266, 154), (15719, 154), (3999, 154)]  [12325, 13290, 13609]  \n",
              "2  [(4151, 155), (10942, 157), (8821, 157), (3734...  [12325, 13290, 13609]  \n",
              "3          [(14910, 153), (10440, 160), (3697, 161)]  [12325, 13290, 13609]  \n",
              "4                         [(6054, 161), (4073, 161)]  [12325, 13290, 13609]  "
            ]
          },
          "execution_count": 16,
          "metadata": {},
          "output_type": "execute_result"
        }
      ],
      "source": [
        "np.random.seed(777)\n",
        "\n",
        "class Random:\n",
        "    \"\"\" \n",
        "    Служит для предсказания topn случайных элементов из обученной модели для каждой строки DataFrame, \n",
        "    где каждая строка представляет пользователя или сущность, для которой формируются рекомендации\n",
        "    \"\"\"\n",
        "\n",
        "    def __init__(self): # метод-конструктор\n",
        "\n",
        "        self.trained = False\n",
        "\n",
        "    def fit(self, df, col='train_interactions'):\n",
        "        \"\"\"\n",
        "        извлекает уникальные элементы из списка интераций в этом столбце и сохраняет их в объекте класса Random.\n",
        "        \"\"\"\n",
        "        items = set()\n",
        "        for _, row in df.iterrows(): # итерация по строкам \n",
        "            for item, _ in row[col]: # Для каждой строки извлекается столбец col, содержащий список кортежей \n",
        "                #(например, [(item1, time1), (item2, time2), ...]), итерируется по этому списку.\n",
        "                items.add(item) # Каждый элемент item из кортежей добавляется во множество items.\n",
        "\n",
        "        self.items = list(items) # все уникальные элементы(запросы) сохраняются в виде списка в атрибуте items объекта класса Random.\n",
        "        self.trained = True\n",
        "\n",
        "    def predict(self, df, topn=10):\n",
        "        \"\"\"\n",
        "        Параметр topn, который определяет количество элементов для предсказания.\n",
        "        Этот метод возвращает список случайно выбранных элементов из сохраненного списка items.\n",
        "        \"\"\"\n",
        "        assert self.trained\n",
        "        return [np.random.choice(self.items, replace=False, size=topn)]*len(df) #  для случайного выбора topn элементов из списка self.items без повторений (replace=False)\n",
        "                                                                                # затем повторяем len(df) раз\n",
        "\n",
        "\n",
        "random = Random()\n",
        "random.fit(joined)\n",
        "\n",
        "joined['random_recs'] = random.predict(joined, topn=3)\n",
        "joined.head()"
      ]
    },
    {
      "cell_type": "markdown",
      "id": "30934f45-28dc-41d3-9263-e93ca0dabb1b",
      "metadata": {
        "id": "30934f45-28dc-41d3-9263-e93ca0dabb1b"
      },
      "source": [
        "**Задание №1. Метрики и бейзлайны**\n",
        "\n",
        "Добавьте реализацию метрик AP, RR, HR, их усреднённые версии по $U$ мы посчитаем ниже, если следовать коду с семинара, поэтому формулы немного отличаются. За имплементацию с циклами балл будет снижаться, векторизуйте ( ͡° ͜ʖ ͡°)"
      ]
    },
    {
      "cell_type": "markdown",
      "id": "mgj_xY1Vc5b8",
      "metadata": {
        "id": "mgj_xY1Vc5b8"
      },
      "source": [
        "$$\n",
        "AP_u@k = \\frac{1}{\\min(k, n_u)} \\sum_{i=1}^k r_u(i) p_u@i\n",
        "$$\n",
        "$$\n",
        "p_u@k = \\dfrac{1}{k}\\sum_{j=1}^k r_u(j)\n",
        "$$\n",
        "$$\n",
        "RR@k = \\dfrac{1}{\\text{rank}_i@k}\n",
        "$$\n",
        "$$\n",
        "HR@k = [\\exists \\ y_i = 1 \\ \\text{among k preds}]\n",
        "$$\n",
        "\n",
        "\n",
        "*   $n_u$ - число айтемов, с которыми взаимодействовал юзер $u$\n",
        "*   $y_i$ - релевантно ли $i$-ое предсказание, $y_i \\in \\{0,1\\}$\n",
        "* $\\text{rank}_i@k$ - позиция первого релеваннтого айтема среди первых $k$ предсказаний\n",
        "* HR@k - среди первых $k$ предсказаний есть хотя бы одно релевантное\n",
        "\n",
        "Считайте, что если `topn` не задано, то берётся всегда $n_u$"
      ]
    },
    {
      "cell_type": "markdown",
      "id": "a0d44454",
      "metadata": {},
      "source": [
        "------------------------------------------------------------------------------------------------------------------"
      ]
    },
    {
      "cell_type": "markdown",
      "id": "87dcdb73",
      "metadata": {},
      "source": [
        "Для вычисления Average Precision (AP) нужно выполнить следующие шаги:\n",
        "1. **Оценить релевантность предсказаний:**\n",
        "   - На основе истинных значений и предсказаний оценить, какие из предсказанных элементов являются \"верными\" релевантными элементами.\n",
        "\n",
        "2. **Вычислить Precision at k и Average Precision:**\n",
        "   - Для каждого элемента рассчитать Precision at k (precision@k) до k-го элемента (если не задано, то до конца списка).\n",
        "   - Average Precision - усредненное значение precision на каждом шаге, где оценено, как много \"верных\" элементов найдено на момент каждого шага."
      ]
    },
    {
      "cell_type": "code",
      "execution_count": 17,
      "id": "60c1459f-7341-416f-94c7-55f30253e217",
      "metadata": {
        "id": "60c1459f-7341-416f-94c7-55f30253e217"
      },
      "outputs": [],
      "source": [
        "from typing import List, Optional\n",
        "import numpy as np\n",
        "##Average Precision (AP) TEST TEST TEST TEST TEST \n",
        "# def ap_metric( gt_items: List[int], predictions: List[int], topn: Optional[int]=None ):\n",
        "\n",
        "#     if topn is not None: \n",
        "#         predictions = np.array(predictions[:topn]) # первые topn предсказания\n",
        "\n",
        "#     num_hits = 0\n",
        "#     score = 0.0\n",
        "#     for i, p in enumerate(predictions):\n",
        "#         if p in gt_items and p not in predictions[:i]:\n",
        "#             num_hits += 1\n",
        "#             score += num_hits / (i + 1)\n",
        "\n",
        "#     # if not gt_items:\n",
        "#     #     return 0.0\n",
        "#     avg_precision = score / min(len(gt_items), len(predictions))\n",
        "#     return avg_precision\n",
        "# # Пример использования\n",
        "# gt_items = [1, 2, 3, 4, 5]\n",
        "# predictions = [6, 4, 1, 7, 5]\n",
        "# topn = 3  # Если хотим оценить до первых трех предсказаний\n",
        "# ap = ap_metric(gt_items, predictions, topn)\n",
        "# print(ap)\n"
      ]
    },
    {
      "cell_type": "code",
      "execution_count": 111,
      "id": "6775c983",
      "metadata": {},
      "outputs": [
        {
          "name": "stdout",
          "output_type": "stream",
          "text": [
            "0.4\n"
          ]
        }
      ],
      "source": [
        "from typing import List, Optional\n",
        "import numpy as np\n",
        "\n",
        "def ap_metric(gt_items: List[int], predictions: List[int], topn: Optional[int] = None):\n",
        "    \n",
        "    if topn is not None:\n",
        "        predictions = np.array(predictions[:topn])  \n",
        "\n",
        "    # Создание маски для проверки наличия предиктов среди правильных значений\n",
        "    correct_mask = np.in1d(predictions, gt_items, assume_unique=True)\n",
        "    \n",
        "    # Вычисление накопленной суммы корректных предиктов до каждой позиции\n",
        "    cumulative_hits = np.cumsum(correct_mask)\n",
        "    \n",
        "    # Число позиций для каждого предикта\n",
        "    positions = np.arange(1, len(predictions) + 1)\n",
        "    \n",
        "    # Вычисление precision at k\n",
        "    precision_at_k = cumulative_hits / positions\n",
        "    \n",
        "    # Расчет среднего precision\n",
        "    avg_precision = 0.0\n",
        "    count_relevant = min(len(gt_items), len(predictions))\n",
        "    \n",
        "    if count_relevant > 0:\n",
        "        avg_precision = np.sum(precision_at_k * correct_mask) / count_relevant\n",
        "\n",
        "    return avg_precision\n",
        "\n",
        "# Пример использования\n",
        "gt_items = np.asarray([2, 4, 5, 10])\n",
        "predictions = np.asarray([1, 2, 3, 4, 5])\n",
        "topn = 2  # Если хотим оценить до первых трех предсказаний\n",
        "ap = ap_metric(gt_items, predictions, topn)\n",
        "print(ap)"
      ]
    },
    {
      "cell_type": "markdown",
      "id": "1fa60832",
      "metadata": {},
      "source": [
        "1. Reciprocal Rank at k (RR@k):\n",
        "    - Это метрика, которая оценивает способность модели предсказывать релевантные элементы, инвертируя позицию первого релевантного элемента среди первых k предсказаний.\n",
        "    - Формула для RR@k: RR@k = 1/(rank_i@k)\n",
        "    - Здесь rank_i@k - это позиция первого релевантного элемента среди первых k предсказаний.\n",
        "\n",
        "Например, если для конкретного пользователя первый релевантный элемент находится на третьей позиции среди первых k предсказаний, то RR@k будет равняться 1/3 = 0.33. Чем ближе значение RR@k к 1, тем лучше модель способна предсказывать релевантные элементы раньше.\n",
        "\n",
        "RR@k полезно использовать как метрику эффективности модели в задачах рекомендаций, поскольку она фокусируется не только на том, насколько верный сам предсказанный элемент, но и на его ранжировании среди остальных предсказаний.\n",
        "\n",
        "RR отражает, как скоро в среднем мы сможем найти релевантный элемент для каждого пользователя на первых K позициях. Это подчеркивает важность правильной позиции в начале списка."
      ]
    },
    {
      "cell_type": "code",
      "execution_count": 19,
      "id": "25e2ba57",
      "metadata": {},
      "outputs": [],
      "source": [
        "# def rr_metric(gt_items: List[int], predictions: List[int], topn: Optional[int]=None): \n",
        "#     if topn is None:\n",
        "#         predictions = predictions[:topn]\n",
        "\n",
        "#     rr_score = 0.0 \n",
        "    \n",
        "#     if gt_items[0] != predictions[0] and topn == 1:\n",
        "#         return rr_score\n",
        "    \n",
        "#     for idx, p in enumerate(predictions):\n",
        "#         if p in gt_items:\n",
        "#             rr_score = 1 / (idx + 1)\n",
        "#             break\n",
        "    \n",
        "#     return rr_score\n",
        "\n",
        "# gt_items = [1, 2, 3, 4, 5]\n",
        "# predictions = [6, 4, 1, 7, 5]\n",
        "# topn = 1  # Если хотим оценить до первых трех предсказаний\n",
        "# rr = rr_metric(gt_items, predictions, topn)\n",
        "# print(rr)"
      ]
    },
    {
      "cell_type": "code",
      "execution_count": 118,
      "id": "b32d10b6",
      "metadata": {},
      "outputs": [
        {
          "name": "stdout",
          "output_type": "stream",
          "text": [
            "0.0\n"
          ]
        }
      ],
      "source": [
        "# векторизовал..\n",
        "def rr_metric(gt_items: List[int], predictions: List[int], topn: Optional[int]=None): \n",
        "    \n",
        "    if topn is None:\n",
        "        predictions = np.array(predictions[:topn])\n",
        "\n",
        "    rr_score = 0.0\n",
        "\n",
        "    relevant_indices = np.where(np.in1d(predictions, gt_items))[0]  \n",
        "\n",
        "    if len(relevant_indices) > 0:\n",
        "        first_relevant_indices = relevant_indices[0]\n",
        "\n",
        "        rr_score = 1 / (first_relevant_indices + 1)\n",
        "\n",
        "    if topn == 1 and gt_items[0] != predictions[0]:\n",
        "        rr_score = 0.0\n",
        "\n",
        "    return rr_score\n",
        "\n",
        "\n",
        "gt_items = np.asarray([2, 4, 5, 10])\n",
        "predictions = np.asarray([1, 2, 3, 4, 5])\n",
        "topn = 1  # Если хотим оценить до первых трех предсказаний\n",
        "rr = rr_metric(gt_items, predictions, topn)\n",
        "print(rr)"
      ]
    },
    {
      "cell_type": "markdown",
      "id": "cfe0b19e",
      "metadata": {},
      "source": [
        "Hit Rate (HR). Hit Rate - это метрика, которая показывает, есть ли хотя бы один релевантный элемент среди первых $k$ предсказаний."
      ]
    },
    {
      "cell_type": "code",
      "execution_count": 21,
      "id": "6b1e4040",
      "metadata": {},
      "outputs": [],
      "source": [
        "# def hr_metric( gt_items: List[int], predictions: List[int], topn: Optional[int]=None ):\n",
        "\n",
        "#     if topn is None:\n",
        "#         predictions = predictions[:topn]\n",
        "\n",
        "#     hr_score = 0.0\n",
        "\n",
        "#     if gt_items[0] != predictions[0] and topn == 1:\n",
        "#         return hr_score\n",
        "\n",
        "#     for idx, p in enumerate(predictions):\n",
        "#         if p in gt_items:\n",
        "#             hr_score = 1\n",
        "#             break \n",
        "    \n",
        "\n",
        "#     return hr_score\n",
        "\n",
        "# gt_items = [1, 2, 3, 4, 5]\n",
        "# predictions = [6, 4, 1, 7, 5]\n",
        "# topn = 3  # Если хотим оценить до первых трех предсказаний\n",
        "# rr = hr_metric(gt_items, predictions, topn)\n",
        "# print(rr)"
      ]
    },
    {
      "cell_type": "code",
      "execution_count": 120,
      "id": "092bb43d",
      "metadata": {},
      "outputs": [
        {
          "name": "stdout",
          "output_type": "stream",
          "text": [
            "1\n"
          ]
        }
      ],
      "source": [
        "def hr_metric( gt_items: List[int], predictions: List[int], topn: Optional[int]=None ):\n",
        "\n",
        "    if topn is None:\n",
        "        predictions = predictions[:topn]\n",
        "\n",
        "    hr_score = 0\n",
        "\n",
        "    hr_score =  int(np.any(np.in1d(predictions, gt_items)))\n",
        "\n",
        "    if topn == 1 and gt_items[0] != predictions[0]:\n",
        "        hr_score = 0.0\n",
        "\n",
        "    return hr_score\n",
        "\n",
        "gt_items = [1, 2, 3, 4, 5]\n",
        "predictions = [6, 4, 1, 7, 5]\n",
        "topn = 3  # Если хотим оценить до первых трех предсказаний\n",
        "rr = hr_metric(gt_items, predictions, topn)\n",
        "print(rr)\n"
      ]
    },
    {
      "cell_type": "markdown",
      "id": "k83GlXGhMt6P",
      "metadata": {
        "id": "k83GlXGhMt6P"
      },
      "source": [
        "Для вашего удобства в файле `metric_tests.py` есть тесты, но хардкодить из не стоит, разумеется"
      ]
    },
    {
      "cell_type": "code",
      "execution_count": 121,
      "id": "78f59d16",
      "metadata": {},
      "outputs": [],
      "source": [
        "run_tests(ap_metric, rr_metric, hr_metric)"
      ]
    },
    {
      "cell_type": "markdown",
      "id": "di3dR9-mM34j",
      "metadata": {
        "id": "di3dR9-mM34j"
      },
      "source": [
        "В следующей ячейке код, который считает и усредняет метрики по юзерам. Он взят с семинара, при желании можно его тоже модифицировать, например, векторизовать"
      ]
    },
    {
      "cell_type": "code",
      "execution_count": 24,
      "id": "YHz9p4SOg6eN",
      "metadata": {
        "id": "YHz9p4SOg6eN"
      },
      "outputs": [],
      "source": [
        "def evaluate_recommender(df, model_preds:str , gt_col='test_interactions'):\n",
        "    \"\"\"\n",
        "    model_preds: в нашем случае это название столбца в предсказаниями\n",
        "    gt_col: столбец тестовых взаимодействий \n",
        "    \"\"\"\n",
        "\n",
        "    metric_values = []\n",
        "\n",
        "    for idx, row in df.iterrows():\n",
        "        gt_items = [x[0] for x in row[gt_col]] # извлекаются gt_items и predictions из строк данных\n",
        "        predictions = row[model_preds]\n",
        "\n",
        "        ap = ap_metric(gt_items, predictions) # Average Precision\n",
        "        rr = rr_metric(gt_items, predictions) # Reciprocal Rank\n",
        "        hr = hr_metric(gt_items, predictions) # Hit Rate \n",
        "\n",
        "        metric_values.append((ap, rr, hr))\n",
        "            # усреднили метрики \n",
        "    return {'MAP': np.mean([x[0] for x in metric_values]), \n",
        "            'MRR': np.mean([x[1] for x in metric_values]),\n",
        "            'HR': np.mean([x[2] for x in metric_values])}"
      ]
    },
    {
      "cell_type": "markdown",
      "id": "HHwUiR0BNOqB",
      "metadata": {
        "id": "HHwUiR0BNOqB"
      },
      "source": [
        "Если вы всё сделали правильно, рандомные предсказания должны дать хоть какое-то качество, но не очень большое"
      ]
    },
    {
      "cell_type": "code",
      "execution_count": 25,
      "id": "107b24e3-00d0-4466-be0f-3377d34c83a0",
      "metadata": {
        "id": "107b24e3-00d0-4466-be0f-3377d34c83a0"
      },
      "outputs": [
        {
          "data": {
            "text/plain": [
              "{'MAP': 0.00015, 'MRR': 0.00035, 'HR': 0.0007}"
            ]
          },
          "execution_count": 25,
          "metadata": {},
          "output_type": "execute_result"
        }
      ],
      "source": [
        "evaluate_recommender(joined, model_preds='random_recs')"
      ]
    },
    {
      "cell_type": "code",
      "execution_count": 26,
      "id": "ac8d261e-1b5f-4894-93db-eb9eb414bfd1",
      "metadata": {
        "colab": {
          "base_uri": "https://localhost:8080/",
          "height": 379
        },
        "id": "ac8d261e-1b5f-4894-93db-eb9eb414bfd1",
        "outputId": "808e1eec-48d3-40f8-809f-a51c3b3b7fd6"
      },
      "outputs": [
        {
          "data": {
            "text/html": [
              "<div>\n",
              "<style scoped>\n",
              "    .dataframe tbody tr th:only-of-type {\n",
              "        vertical-align: middle;\n",
              "    }\n",
              "\n",
              "    .dataframe tbody tr th {\n",
              "        vertical-align: top;\n",
              "    }\n",
              "\n",
              "    .dataframe thead th {\n",
              "        text-align: right;\n",
              "    }\n",
              "</style>\n",
              "<table border=\"1\" class=\"dataframe\">\n",
              "  <thead>\n",
              "    <tr style=\"text-align: right;\">\n",
              "      <th></th>\n",
              "      <th>user_id</th>\n",
              "      <th>train_interactions</th>\n",
              "      <th>test_interactions</th>\n",
              "      <th>random_recs</th>\n",
              "      <th>toppopular_recs</th>\n",
              "    </tr>\n",
              "  </thead>\n",
              "  <tbody>\n",
              "    <tr>\n",
              "      <th>0</th>\n",
              "      <td>53</td>\n",
              "      <td>[(13865, 110), (7571, 110), (10440, 115), (161...</td>\n",
              "      <td>[(16426, 155), (1445, 157), (15629, 157), (158...</td>\n",
              "      <td>[12325, 13290, 13609]</td>\n",
              "      <td>[10440, 9728, 15297, 13865, 3734, 4151, 4880, ...</td>\n",
              "    </tr>\n",
              "    <tr>\n",
              "      <th>1</th>\n",
              "      <td>119</td>\n",
              "      <td>[(9728, 134), (4436, 135)]</td>\n",
              "      <td>[(4266, 154), (15719, 154), (3999, 154)]</td>\n",
              "      <td>[12325, 13290, 13609]</td>\n",
              "      <td>[10440, 9728, 15297, 13865, 3734, 4151, 4880, ...</td>\n",
              "    </tr>\n",
              "    <tr>\n",
              "      <th>2</th>\n",
              "      <td>144</td>\n",
              "      <td>[(9728, 126), (13865, 128), (741, 130), (15297...</td>\n",
              "      <td>[(4151, 155), (10942, 157), (8821, 157), (3734...</td>\n",
              "      <td>[12325, 13290, 13609]</td>\n",
              "      <td>[10440, 9728, 15297, 13865, 3734, 4151, 4880, ...</td>\n",
              "    </tr>\n",
              "    <tr>\n",
              "      <th>3</th>\n",
              "      <td>229</td>\n",
              "      <td>[(11275, 110), (4151, 110), (1699, 126), (1460...</td>\n",
              "      <td>[(14910, 153), (10440, 160), (3697, 161)]</td>\n",
              "      <td>[12325, 13290, 13609]</td>\n",
              "      <td>[10440, 9728, 15297, 13865, 3734, 4151, 4880, ...</td>\n",
              "    </tr>\n",
              "    <tr>\n",
              "      <th>4</th>\n",
              "      <td>304</td>\n",
              "      <td>[(11985, 71), (2301, 71), (175, 75), (4457, 99...</td>\n",
              "      <td>[(6054, 161), (4073, 161)]</td>\n",
              "      <td>[12325, 13290, 13609]</td>\n",
              "      <td>[10440, 9728, 15297, 13865, 3734, 4151, 4880, ...</td>\n",
              "    </tr>\n",
              "  </tbody>\n",
              "</table>\n",
              "</div>"
            ],
            "text/plain": [
              "   user_id                                 train_interactions  \\\n",
              "0       53  [(13865, 110), (7571, 110), (10440, 115), (161...   \n",
              "1      119                         [(9728, 134), (4436, 135)]   \n",
              "2      144  [(9728, 126), (13865, 128), (741, 130), (15297...   \n",
              "3      229  [(11275, 110), (4151, 110), (1699, 126), (1460...   \n",
              "4      304  [(11985, 71), (2301, 71), (175, 75), (4457, 99...   \n",
              "\n",
              "                                   test_interactions            random_recs  \\\n",
              "0  [(16426, 155), (1445, 157), (15629, 157), (158...  [12325, 13290, 13609]   \n",
              "1           [(4266, 154), (15719, 154), (3999, 154)]  [12325, 13290, 13609]   \n",
              "2  [(4151, 155), (10942, 157), (8821, 157), (3734...  [12325, 13290, 13609]   \n",
              "3          [(14910, 153), (10440, 160), (3697, 161)]  [12325, 13290, 13609]   \n",
              "4                         [(6054, 161), (4073, 161)]  [12325, 13290, 13609]   \n",
              "\n",
              "                                     toppopular_recs  \n",
              "0  [10440, 9728, 15297, 13865, 3734, 4151, 4880, ...  \n",
              "1  [10440, 9728, 15297, 13865, 3734, 4151, 4880, ...  \n",
              "2  [10440, 9728, 15297, 13865, 3734, 4151, 4880, ...  \n",
              "3  [10440, 9728, 15297, 13865, 3734, 4151, 4880, ...  \n",
              "4  [10440, 9728, 15297, 13865, 3734, 4151, 4880, ...  "
            ]
          },
          "execution_count": 26,
          "metadata": {},
          "output_type": "execute_result"
        }
      ],
      "source": [
        "class TopPopular:\n",
        "\n",
        "    def __init__(self):\n",
        "\n",
        "        self.trained = False\n",
        "\n",
        "    def fit(self, df, col='train_interactions'):\n",
        "\n",
        "        counts = {}\n",
        "        # для каждой строки df идет подсчет количества взаимодействий с каждым элементом \n",
        "        for _, row in df.iterrows(): # idx, row \n",
        "            for item, _ in row[col]: # проверка вхождений в строке row столбца col //   [(item1, _), (item2, _), ]\n",
        "                if item in counts: \n",
        "                    counts[item] += 1\n",
        "                else:\n",
        "                    counts[item] = 1\n",
        "        # сортируем по убыванию кол-во взаимодействий \n",
        "        counts_sort = sorted(counts.items(), key=lambda x: x[1], reverse=True)\n",
        "\n",
        "        self.recommenations = [x[0] for x in counts_sort] # кортежи (элемент, кол-во взаимодейтсвий)\n",
        "        self.trained = True\n",
        "\n",
        "    def predict(self, df, topn=20)  -> List[np.ndarray]:\n",
        "\n",
        "        assert self.trained\n",
        "        return [self.recommenations[:topn]]*len(df) # возвращается список списоков, каждый из которых содержит по topn рекомендаций для каждой строки df\n",
        "\n",
        "\n",
        "toppop = TopPopular()\n",
        "toppop.fit(joined)\n",
        "\n",
        "joined['toppopular_recs'] = toppop.predict(joined)\n",
        "joined.head()"
      ]
    },
    {
      "cell_type": "markdown",
      "id": "U6Yovxc4NbdO",
      "metadata": {
        "id": "U6Yovxc4NbdO"
      },
      "source": [
        "Самые популярные предсказания должны дать сильно получше"
      ]
    },
    {
      "cell_type": "code",
      "execution_count": 27,
      "id": "dfd3c545-53f8-46a4-89b9-4cf61475599a",
      "metadata": {
        "id": "dfd3c545-53f8-46a4-89b9-4cf61475599a"
      },
      "outputs": [
        {
          "data": {
            "text/plain": [
              "{'MAP': 0.07360497149365786, 'MRR': 0.1310730234041844, 'HR': 0.3836}"
            ]
          },
          "execution_count": 27,
          "metadata": {},
          "output_type": "execute_result"
        }
      ],
      "source": [
        "evaluate_recommender(joined, model_preds='toppopular_recs')"
      ]
    },
    {
      "cell_type": "markdown",
      "id": "dcf7944e-962d-4206-8cfe-afa5162512b3",
      "metadata": {
        "id": "dcf7944e-962d-4206-8cfe-afa5162512b3"
      },
      "source": [
        "**Задание №2. Рекомендации в окне**\n",
        "\n",
        "Здесь необходимо переделать метод рекомендации по популярности так, что популярность считается только за какое-то более свежее окно. Под окном подразумевается какой-то временной промежуток, например, ближайший месяц. Соответственно, всё что вне его пределов, учитывать не надо"
      ]
    },
    {
      "cell_type": "code",
      "execution_count": 28,
      "id": "4a01f209-5f6a-4643-9d1d-5fcec5598f28",
      "metadata": {
        "id": "4a01f209-5f6a-4643-9d1d-5fcec5598f28"
      },
      "outputs": [
        {
          "data": {
            "text/html": [
              "<div>\n",
              "<style scoped>\n",
              "    .dataframe tbody tr th:only-of-type {\n",
              "        vertical-align: middle;\n",
              "    }\n",
              "\n",
              "    .dataframe tbody tr th {\n",
              "        vertical-align: top;\n",
              "    }\n",
              "\n",
              "    .dataframe thead th {\n",
              "        text-align: right;\n",
              "    }\n",
              "</style>\n",
              "<table border=\"1\" class=\"dataframe\">\n",
              "  <thead>\n",
              "    <tr style=\"text-align: right;\">\n",
              "      <th></th>\n",
              "      <th>user_id</th>\n",
              "      <th>train_interactions</th>\n",
              "      <th>test_interactions</th>\n",
              "      <th>random_recs</th>\n",
              "      <th>toppopular_recs</th>\n",
              "      <th>toppopular_recs_window</th>\n",
              "    </tr>\n",
              "  </thead>\n",
              "  <tbody>\n",
              "    <tr>\n",
              "      <th>0</th>\n",
              "      <td>53</td>\n",
              "      <td>[(13865, 110), (7571, 110), (10440, 115), (161...</td>\n",
              "      <td>[(16426, 155), (1445, 157), (15629, 157), (158...</td>\n",
              "      <td>[12325, 13290, 13609]</td>\n",
              "      <td>[10440, 9728, 15297, 13865, 3734, 4151, 4880, ...</td>\n",
              "      <td>[10440, 13865, 15297, 9728, 4151, 3734, 4880, ...</td>\n",
              "    </tr>\n",
              "    <tr>\n",
              "      <th>1</th>\n",
              "      <td>119</td>\n",
              "      <td>[(9728, 134), (4436, 135)]</td>\n",
              "      <td>[(4266, 154), (15719, 154), (3999, 154)]</td>\n",
              "      <td>[12325, 13290, 13609]</td>\n",
              "      <td>[10440, 9728, 15297, 13865, 3734, 4151, 4880, ...</td>\n",
              "      <td>[10440, 13865, 15297, 9728, 4151, 3734, 4880, ...</td>\n",
              "    </tr>\n",
              "    <tr>\n",
              "      <th>2</th>\n",
              "      <td>144</td>\n",
              "      <td>[(9728, 126), (13865, 128), (741, 130), (15297...</td>\n",
              "      <td>[(4151, 155), (10942, 157), (8821, 157), (3734...</td>\n",
              "      <td>[12325, 13290, 13609]</td>\n",
              "      <td>[10440, 9728, 15297, 13865, 3734, 4151, 4880, ...</td>\n",
              "      <td>[10440, 13865, 15297, 9728, 4151, 3734, 4880, ...</td>\n",
              "    </tr>\n",
              "    <tr>\n",
              "      <th>3</th>\n",
              "      <td>229</td>\n",
              "      <td>[(11275, 110), (4151, 110), (1699, 126), (1460...</td>\n",
              "      <td>[(14910, 153), (10440, 160), (3697, 161)]</td>\n",
              "      <td>[12325, 13290, 13609]</td>\n",
              "      <td>[10440, 9728, 15297, 13865, 3734, 4151, 4880, ...</td>\n",
              "      <td>[10440, 13865, 15297, 9728, 4151, 3734, 4880, ...</td>\n",
              "    </tr>\n",
              "    <tr>\n",
              "      <th>4</th>\n",
              "      <td>304</td>\n",
              "      <td>[(11985, 71), (2301, 71), (175, 75), (4457, 99...</td>\n",
              "      <td>[(6054, 161), (4073, 161)]</td>\n",
              "      <td>[12325, 13290, 13609]</td>\n",
              "      <td>[10440, 9728, 15297, 13865, 3734, 4151, 4880, ...</td>\n",
              "      <td>[10440, 13865, 15297, 9728, 4151, 3734, 4880, ...</td>\n",
              "    </tr>\n",
              "  </tbody>\n",
              "</table>\n",
              "</div>"
            ],
            "text/plain": [
              "   user_id                                 train_interactions  \\\n",
              "0       53  [(13865, 110), (7571, 110), (10440, 115), (161...   \n",
              "1      119                         [(9728, 134), (4436, 135)]   \n",
              "2      144  [(9728, 126), (13865, 128), (741, 130), (15297...   \n",
              "3      229  [(11275, 110), (4151, 110), (1699, 126), (1460...   \n",
              "4      304  [(11985, 71), (2301, 71), (175, 75), (4457, 99...   \n",
              "\n",
              "                                   test_interactions            random_recs  \\\n",
              "0  [(16426, 155), (1445, 157), (15629, 157), (158...  [12325, 13290, 13609]   \n",
              "1           [(4266, 154), (15719, 154), (3999, 154)]  [12325, 13290, 13609]   \n",
              "2  [(4151, 155), (10942, 157), (8821, 157), (3734...  [12325, 13290, 13609]   \n",
              "3          [(14910, 153), (10440, 160), (3697, 161)]  [12325, 13290, 13609]   \n",
              "4                         [(6054, 161), (4073, 161)]  [12325, 13290, 13609]   \n",
              "\n",
              "                                     toppopular_recs  \\\n",
              "0  [10440, 9728, 15297, 13865, 3734, 4151, 4880, ...   \n",
              "1  [10440, 9728, 15297, 13865, 3734, 4151, 4880, ...   \n",
              "2  [10440, 9728, 15297, 13865, 3734, 4151, 4880, ...   \n",
              "3  [10440, 9728, 15297, 13865, 3734, 4151, 4880, ...   \n",
              "4  [10440, 9728, 15297, 13865, 3734, 4151, 4880, ...   \n",
              "\n",
              "                              toppopular_recs_window  \n",
              "0  [10440, 13865, 15297, 9728, 4151, 3734, 4880, ...  \n",
              "1  [10440, 13865, 15297, 9728, 4151, 3734, 4880, ...  \n",
              "2  [10440, 13865, 15297, 9728, 4151, 3734, 4880, ...  \n",
              "3  [10440, 13865, 15297, 9728, 4151, 3734, 4880, ...  \n",
              "4  [10440, 13865, 15297, 9728, 4151, 3734, 4880, ...  "
            ]
          },
          "execution_count": 28,
          "metadata": {},
          "output_type": "execute_result"
        }
      ],
      "source": [
        "from datetime import datetime\n",
        "\n",
        "class TopPopularWeighted(TopPopular):\n",
        "\n",
        "    def __init__(self, min_window=2):\n",
        "\n",
        "        \n",
        "        super().__init__()\n",
        "        self.trained = False\n",
        "        self.min_window = min_window # я так понимаю это количество месяцев // размер окна \n",
        "\n",
        "    def fit_window(self, df, col='train_interactions'):\n",
        "        counts_window = {}\n",
        "        #определим начало и конец временного окна \n",
        "        # end_date = datetime.now().timetuple().tm_yday # текущий день с начала года \n",
        "\n",
        "        \n",
        "        # start_date = end_date - self.min_window * 30 # грубо \n",
        "\n",
        "        for _, row in df.iterrows():\n",
        "            for item, date in row[col]:\n",
        "                # фильтрация по дате \n",
        "                if 0 < date <= self.min_window * 30:\n",
        "                    if item in counts_window:\n",
        "                        counts_window[item] += 1\n",
        "                    else:\n",
        "                        counts_window[item] = 1\n",
        "        \n",
        "        \n",
        "        counts_window_sort = sorted(counts_window.items(), key=lambda x: x[1], reverse=True)\n",
        "\n",
        "        self.recommenations_window = [x[0] for x in counts_window_sort]\n",
        "        self.trained = True\n",
        "\n",
        "    def predict_window(self, df, topn=20):\n",
        "\n",
        "        assert self.trained\n",
        "        return [self.recommenations_window[:topn]]*len(df)\n",
        "\n",
        "toppopW_test = TopPopularWeighted(min_window=4)\n",
        "toppopW_test.fit_window(joined)\n",
        "\n",
        "joined['toppopular_recs_window'] = toppopW_test.predict_window(joined)\n",
        "joined.head()"
      ]
    },
    {
      "cell_type": "code",
      "execution_count": 29,
      "id": "10a6a17d",
      "metadata": {},
      "outputs": [
        {
          "data": {
            "text/plain": [
              "{'MAP': 0.06593785913839806, 'MRR': 0.11970763943014331, 'HR': 0.3212}"
            ]
          },
          "execution_count": 29,
          "metadata": {},
          "output_type": "execute_result"
        }
      ],
      "source": [
        "evaluate_recommender(joined, 'toppopular_recs_window')"
      ]
    },
    {
      "cell_type": "markdown",
      "id": "YKmJId7cOWh6",
      "metadata": {
        "id": "YKmJId7cOWh6"
      },
      "source": [
        "Теперь постройте графики зависимости трёх метрик от размера окна"
      ]
    },
    {
      "cell_type": "code",
      "execution_count": 30,
      "id": "mdxBytDB8gkm",
      "metadata": {
        "id": "mdxBytDB8gkm"
      },
      "outputs": [
        {
          "data": {
            "image/png": "[encoded data removed]",
            "text/plain": [
              "<Figure size 1000x600 with 1 Axes>"
            ]
          },
          "metadata": {},
          "output_type": "display_data"
        }
      ],
      "source": [
        "import matplotlib.pyplot as plt\n",
        "\n",
        "# Размеры окон для анализа\n",
        "window_sizes = [1, 2, 3, 4, 5, 6]\n",
        "\n",
        "# Списки для хранения значений метрик\n",
        "map_values = []\n",
        "mrr_values = []\n",
        "hr_values = []\n",
        "\n",
        "# Проходим по каждому размеру окна\n",
        "for window_size in window_sizes:\n",
        "    toppopW = TopPopularWeighted(min_window=window_size)\n",
        "    toppopW.fit_window(joined)\n",
        "    joined['toppopular_recs_window'] = toppopW.predict_window(joined)\n",
        "    metrics = evaluate_recommender(joined, 'toppopular_recs_window')\n",
        "    \n",
        "    # Сохраняем значения метрик\n",
        "    map_values.append(metrics['MAP'])\n",
        "    mrr_values.append(metrics['MRR'])\n",
        "    hr_values.append(metrics['HR'])\n",
        "\n",
        "# Построение графиков\n",
        "plt.figure(figsize=(10, 6))\n",
        "\n",
        "plt.plot(window_sizes, map_values, label='MAP') \n",
        "plt.plot(window_sizes, mrr_values, label='MRR')\n",
        "plt.plot(window_sizes, hr_values, label='HR')\n",
        "\n",
        "plt.xlabel('Размер окна')\n",
        "plt.ylabel('Значение метрики')\n",
        "plt.title('Зависимость метрик от размера окна')\n",
        "plt.legend()\n",
        "plt.grid(True)\n",
        "plt.show()"
      ]
    },
    {
      "cell_type": "markdown",
      "id": "b_0ke9aD9nkO",
      "metadata": {
        "id": "b_0ke9aD9nkO"
      },
      "source": [
        "Подумайте и ответьте, как окно влияет на качество. Какое значение наилучшее, есть ли у этого разумное объяснение?\n",
        "\n",
        "**Ответ:** окно однозначно влияет на результат. Во-первых, из графика видно, что чем больше окно, тем лучше результат метрика, и во-вторых, читсо из логических рассуждений, чем больше окно, тем больше сведений о покупателях, тем лучше информация при предсказании(следовательно, лучше метрики)"
      ]
    },
    {
      "cell_type": "markdown",
      "id": "1a112ae1-d5f3-4150-8df3-9155240a557a",
      "metadata": {
        "id": "1a112ae1-d5f3-4150-8df3-9155240a557a"
      },
      "source": [
        "**Задание №3. Метрики и k.**\n",
        "\n",
        "Постройте зависимости MAP@K, MRR@K, HR@K для метода рекомендации по популярности. Возьмите какие-нибудь k, например, от 1 до 100, переберите значения и покажите на графике"
      ]
    },
    {
      "cell_type": "code",
      "execution_count": 31,
      "id": "URxM6rRVP6Nu",
      "metadata": {
        "id": "URxM6rRVP6Nu"
      },
      "outputs": [],
      "source": [
        "joined['toppopular_recs'] = toppop.predict(joined, topn=100)"
      ]
    },
    {
      "cell_type": "code",
      "execution_count": 32,
      "id": "f4687ead-a7fa-4407-83f2-17c465d80f67",
      "metadata": {
        "id": "f4687ead-a7fa-4407-83f2-17c465d80f67"
      },
      "outputs": [
        {
          "data": {
            "image/png": "[encoded data removed]",
            "text/plain": [
              "<Figure size 1200x600 with 1 Axes>"
            ]
          },
          "metadata": {},
          "output_type": "display_data"
        }
      ],
      "source": [
        "# Значения K от 1 до 100\n",
        "K_values = list(range(1, 101))\n",
        "\n",
        "# Списки для хранения значений метрик\n",
        "map_values = []\n",
        "mrr_values = []\n",
        "hr_values = []\n",
        "\n",
        "# Перебор значений K\n",
        "for k in K_values:\n",
        "    toppop = TopPopular()\n",
        "    toppop.fit(joined)\n",
        "    joined['toppopular_recs'] = toppop.predict(joined, topn=k)\n",
        "    \n",
        "    metrics = evaluate_recommender(joined, 'toppopular_recs')\n",
        "    \n",
        "    # Добавление значений метрик\n",
        "    map_values.append(metrics['MAP'])\n",
        "    mrr_values.append(metrics['MRR'])\n",
        "    hr_values.append(metrics['HR'])\n",
        "\n",
        "# Построение графиков\n",
        "plt.figure(figsize=(12, 6))\n",
        "\n",
        "plt.plot(K_values, map_values, label='MAP@K')\n",
        "plt.plot(K_values, mrr_values, label='MRR@K')\n",
        "plt.plot(K_values, hr_values, label='HR@K')\n",
        "\n",
        "plt.xlabel('Значение K')\n",
        "plt.ylabel('Значение метрики')\n",
        "plt.title('Зависимость метрик от значения K')\n",
        "plt.legend()\n",
        "plt.grid(True)\n",
        "plt.show()"
      ]
    },
    {
      "cell_type": "markdown",
      "id": "e5696df8-243a-42a0-9bf4-44aac7474dd7",
      "metadata": {
        "id": "e5696df8-243a-42a0-9bf4-44aac7474dd7"
      },
      "source": [
        "Хорошенько подумайте и ответьте на вопросы ниже.\n",
        "\n",
        "Какие из метрик являются монотонными функциями по top-K? Объясните, почему они являются монотонными? \\\n",
        "**Ответ:** \n",
        "- Reciprocal Rank(RR) является монотонной функцией по top-k. С увеличением K, RR будет увеличиваться, поскольку он учитывает только позицию первого релевантного элемента и чем больше элементов смотрится (больший K), тем вероятнее, что найдется релевантный элемент в первых K предсказаниях.\n",
        "\n",
        "- Hit Rate измеряет, был ли хотя бы один релевантный элемент среди первых K предсказаний. Поэтому с увеличением K, HR@K обычно увеличивается, поскольку шансы на нахождение хотя бы одного релевантного элемента в первых K предсказаниях повышаются. Таким образом, HR@K следует монотонному возрастанию при увеличении значения K. \n",
        "\n",
        "- Из графика видно, что как будто бы MAP монотонная, но это не всегда так... MAP@K измеряет среднюю точность прогнозов на первых K позициях, учитывая точность всех предсказаний и их порядок. При увеличении K, модель предоставляет больше предсказаний, что может повлиять на точность и порядок выдачи. В случаях, когда новые предсказания менее точны, чем уже существующие, MAP@K может сначала возрасти, а затем упасть. \n",
        "\n",
        "Объясните по каждой метрике, как можно интерпретировать ее график? То есть что можно сказать про связь изменения метрики c возможными пользовательскими сценариями, например скроллингом ленты новостей. \\\n",
        "**Ответ:**\n",
        "- MAP@K (Mean Average Precision at K): График MAP@K показывает среднюю точность рекомендаций для топ-K элементов. Повышение значения говорит о том, что средняя точность увеличивается с увеличением числа элементов в топ-K.\n",
        "\n",
        "- MRR@K (Mean Reciprocal Rank at K): График MRR@K отражает среднюю обратную позицию первого релевантного элемента среди топ-K предсказаний. Увеличение значения на графике означает улучшение позиции первого релевантного элемента с увеличением числа предсказаний.\n",
        "\n",
        "- HR@K (Hit Rate at K): График HR@K показывает долю случаев, когда хотя бы один релевантный элемент есть среди топ-K предсказаний. Рост значения говорит о более успешном нахождении хотя бы одного релевантного элемента в топ-K предсказаниях\n",
        "\n",
        "Как вы думаете, почему графики выглядят именно так? Должны ли они возрастать/убывать, от чего это может зависеть? (Может помочь поанализировать данные)\\\n",
        "**Ответ:**\n",
        "- Графики этих метрик обычно должны быть монотонно возрастающими по функции top-K для моделей рекомендаций. Это означает, что увеличение значения K должно приводить к повышению метрик. Однако, иногда могут быть локальные падения или всплески, в зависимости от особенностей данных, модели или алгоритма рекомендации"
      ]
    },
    {
      "cell_type": "markdown",
      "id": "ab1e75f8-c9bb-4d59-9d57-9934161aa4c7",
      "metadata": {
        "id": "ab1e75f8-c9bb-4d59-9d57-9934161aa4c7"
      },
      "source": [
        "**Задание №4. Интерпретация рейтингов**\n",
        "\n",
        "Теперь возьмите названия фильмов/сериалов из `items.csv`, выделите 5 различных сценариев изменения попуряности у фильмов, аргументируйте (например, графиком или статистикой) и проинтерпретируейте их (почему популярность для этого фильма меняется так). Обратите внимание, что надо найти именно разные паттерны изменения вероятностей"
      ]
    },
    {
      "cell_type": "code",
      "execution_count": 33,
      "id": "59205c4a-1779-4678-a79e-f7b7548f6988",
      "metadata": {
        "colab": {
          "base_uri": "https://localhost:8080/",
          "height": 206
        },
        "id": "59205c4a-1779-4678-a79e-f7b7548f6988",
        "outputId": "4210096a-7b1e-432e-e29e-cc6f6bd7d3cc"
      },
      "outputs": [
        {
          "data": {
            "text/html": [
              "<div>\n",
              "<style scoped>\n",
              "    .dataframe tbody tr th:only-of-type {\n",
              "        vertical-align: middle;\n",
              "    }\n",
              "\n",
              "    .dataframe tbody tr th {\n",
              "        vertical-align: top;\n",
              "    }\n",
              "\n",
              "    .dataframe thead th {\n",
              "        text-align: right;\n",
              "    }\n",
              "</style>\n",
              "<table border=\"1\" class=\"dataframe\">\n",
              "  <thead>\n",
              "    <tr style=\"text-align: right;\">\n",
              "      <th></th>\n",
              "      <th>item_id</th>\n",
              "      <th>title</th>\n",
              "    </tr>\n",
              "  </thead>\n",
              "  <tbody>\n",
              "    <tr>\n",
              "      <th>0</th>\n",
              "      <td>10711</td>\n",
              "      <td>Поговори с ней</td>\n",
              "    </tr>\n",
              "    <tr>\n",
              "      <th>1</th>\n",
              "      <td>2508</td>\n",
              "      <td>Голые перцы</td>\n",
              "    </tr>\n",
              "    <tr>\n",
              "      <th>2</th>\n",
              "      <td>10716</td>\n",
              "      <td>Тактическая сила</td>\n",
              "    </tr>\n",
              "    <tr>\n",
              "      <th>3</th>\n",
              "      <td>7868</td>\n",
              "      <td>45 лет</td>\n",
              "    </tr>\n",
              "    <tr>\n",
              "      <th>4</th>\n",
              "      <td>16268</td>\n",
              "      <td>Все решает мгновение</td>\n",
              "    </tr>\n",
              "  </tbody>\n",
              "</table>\n",
              "</div>"
            ],
            "text/plain": [
              "   item_id                 title\n",
              "0    10711        Поговори с ней\n",
              "1     2508           Голые перцы\n",
              "2    10716      Тактическая сила\n",
              "3     7868                45 лет\n",
              "4    16268  Все решает мгновение"
            ]
          },
          "execution_count": 33,
          "metadata": {},
          "output_type": "execute_result"
        }
      ],
      "source": [
        "items = pd.read_csv('./data/items.csv')[['item_id','title']].copy()\n",
        "items.head()"
      ]
    },
    {
      "cell_type": "markdown",
      "id": "d5d18d06-ef56-45ef-a738-72150b094898",
      "metadata": {
        "id": "d5d18d06-ef56-45ef-a738-72150b094898"
      },
      "source": [
        "Пример:"
      ]
    },
    {
      "cell_type": "code",
      "execution_count": 34,
      "id": "bbf556fe-21d5-4210-b699-7090fa2fa178",
      "metadata": {
        "colab": {
          "base_uri": "https://localhost:8080/",
          "height": 465
        },
        "id": "bbf556fe-21d5-4210-b699-7090fa2fa178",
        "outputId": "eb2242ca-5bf9-4125-e597-cbc96412df4e"
      },
      "outputs": [
        {
          "name": "stdout",
          "output_type": "stream",
          "text": [
            "Название фильма: Маленький воин\n"
          ]
        },
        {
          "data": {
            "text/plain": [
              "<Axes: >"
            ]
          },
          "execution_count": 34,
          "metadata": {},
          "output_type": "execute_result"
        },
        {
          "data": {
            "image/png": "[encoded data removed]",
            "text/plain": [
              "<Figure size 640x480 with 1 Axes>"
            ]
          },
          "metadata": {},
          "output_type": "display_data"
        }
      ],
      "source": [
        "popular_items = df.item_id.value_counts()[:300].index.tolist() # 300 самых популярных items //Функция value_counts() подсчитывает уникальные значения и их частоту\n",
        "sampled_id = np.random.choice(popular_items)\n",
        "\n",
        "# это для примера, хотя выцеплять случаи по одному может быть не лучшей идеей\n",
        "sampled_id = 3784\n",
        "# выбираются все взаимодействия (строки) из DataFrame df, где item_id соответствует sampled_id\n",
        "interactions = df.loc[df.item_id==sampled_id].copy()\n",
        "interactions.head()\n",
        "name = items.loc[items.item_id==sampled_id].title.values[0]\n",
        "print(f'Название фильма: {name}')\n",
        "interactions.last_watch_dt.hist()"
      ]
    },
    {
      "cell_type": "markdown",
      "id": "bf72e854-0b21-4891-ba5c-acbca999c3f1",
      "metadata": {
        "id": "bf72e854-0b21-4891-ba5c-acbca999c3f1"
      },
      "source": [
        "Фильм Маленький воин был набирал популярность какое-то время, потом видим резкое падение (с какой даты, кстати?). Возможно связано с ограничением доступности к этому фильму, однако не всем участникам, либо же это период проката фильмы / рекламной кампании, и т.д."
      ]
    },
    {
      "cell_type": "markdown",
      "id": "eb5ae2d4-8ddc-4593-b7a2-2cb5e8276e16",
      "metadata": {
        "id": "eb5ae2d4-8ddc-4593-b7a2-2cb5e8276e16"
      },
      "source": [
        "Добавьте 5 своих примеров ниже. Опишите, как вы их искали"
      ]
    },
    {
      "cell_type": "code",
      "execution_count": 35,
      "id": "f4f2b74c",
      "metadata": {},
      "outputs": [
        {
          "data": {
            "text/html": [
              "<div>\n",
              "<style scoped>\n",
              "    .dataframe tbody tr th:only-of-type {\n",
              "        vertical-align: middle;\n",
              "    }\n",
              "\n",
              "    .dataframe tbody tr th {\n",
              "        vertical-align: top;\n",
              "    }\n",
              "\n",
              "    .dataframe thead th {\n",
              "        text-align: right;\n",
              "    }\n",
              "</style>\n",
              "<table border=\"1\" class=\"dataframe\">\n",
              "  <thead>\n",
              "    <tr style=\"text-align: right;\">\n",
              "      <th></th>\n",
              "      <th>user_id</th>\n",
              "      <th>item_id</th>\n",
              "      <th>last_watch_dt</th>\n",
              "      <th>total_dur</th>\n",
              "      <th>watched_pct</th>\n",
              "    </tr>\n",
              "  </thead>\n",
              "  <tbody>\n",
              "    <tr>\n",
              "      <th>598</th>\n",
              "      <td>182977</td>\n",
              "      <td>3784</td>\n",
              "      <td>133</td>\n",
              "      <td>4163</td>\n",
              "      <td>82.0</td>\n",
              "    </tr>\n",
              "    <tr>\n",
              "      <th>619</th>\n",
              "      <td>72137</td>\n",
              "      <td>3784</td>\n",
              "      <td>138</td>\n",
              "      <td>6</td>\n",
              "      <td>0.0</td>\n",
              "    </tr>\n",
              "    <tr>\n",
              "      <th>770</th>\n",
              "      <td>785150</td>\n",
              "      <td>3784</td>\n",
              "      <td>143</td>\n",
              "      <td>6190</td>\n",
              "      <td>100.0</td>\n",
              "    </tr>\n",
              "    <tr>\n",
              "      <th>1086</th>\n",
              "      <td>1063946</td>\n",
              "      <td>3784</td>\n",
              "      <td>156</td>\n",
              "      <td>20442</td>\n",
              "      <td>100.0</td>\n",
              "    </tr>\n",
              "    <tr>\n",
              "      <th>1295</th>\n",
              "      <td>889595</td>\n",
              "      <td>3784</td>\n",
              "      <td>136</td>\n",
              "      <td>2269</td>\n",
              "      <td>45.0</td>\n",
              "    </tr>\n",
              "  </tbody>\n",
              "</table>\n",
              "</div>"
            ],
            "text/plain": [
              "      user_id  item_id  last_watch_dt  total_dur  watched_pct\n",
              "598    182977     3784            133       4163         82.0\n",
              "619     72137     3784            138          6          0.0\n",
              "770    785150     3784            143       6190        100.0\n",
              "1086  1063946     3784            156      20442        100.0\n",
              "1295   889595     3784            136       2269         45.0"
            ]
          },
          "execution_count": 35,
          "metadata": {},
          "output_type": "execute_result"
        }
      ],
      "source": [
        "interactions.head()"
      ]
    },
    {
      "cell_type": "markdown",
      "id": "a9da2561",
      "metadata": {},
      "source": [
        "ПРИМЕР №1 Анализ продолжительности просмотров "
      ]
    },
    {
      "cell_type": "code",
      "execution_count": 36,
      "id": "4d99e8d3",
      "metadata": {},
      "outputs": [
        {
          "data": {
            "image/png": "[encoded data removed]",
            "text/plain": [
              "<Figure size 1500x1000 with 6 Axes>"
            ]
          },
          "metadata": {},
          "output_type": "display_data"
        }
      ],
      "source": [
        "plt.figure(figsize=(15, 10))  \n",
        "\n",
        "\n",
        "for i in range(6):\n",
        "    plt.subplot(2, 3, i+1)\n",
        "    \n",
        "    popular_items = df.item_id.value_counts()[:300].index.tolist()\n",
        "    sampled_id = np.random.choice(popular_items)\n",
        "\n",
        "    interactions = df.loc[df.item_id==sampled_id].copy()\n",
        "    name = items.loc[items.item_id==sampled_id].title.values[0]\n",
        "    plt.hist(interactions.watched_pct, bins=10, alpha=0.7)  # Строим гистограмму для watched_pct\n",
        "    plt.title(f'Название фильма: {name}')  \n",
        "    plt.xlabel('Watched Percentage')\n",
        "    plt.ylabel('Frequency')\n",
        "\n",
        "plt.tight_layout()  # Для улучшения отображения подписей\n",
        "plt.show()  "
      ]
    },
    {
      "cell_type": "markdown",
      "id": "e9e76a24",
      "metadata": {},
      "source": [
        "По данным гистограмма, можно сдлеать вывод, что в основном фильмы/сериалы или начинают смотреть и почти сразу же заканчивают(по какой либо причине. Например, не понравился и т.д.) или смотрят полностью"
      ]
    },
    {
      "cell_type": "markdown",
      "id": "dd700dcb",
      "metadata": {},
      "source": [
        "ПРИМЕР №2 анализа сезонности просмотров"
      ]
    },
    {
      "cell_type": "code",
      "execution_count": 37,
      "id": "1716dc30",
      "metadata": {},
      "outputs": [
        {
          "data": {
            "image/png": "[encoded data removed]",
            "text/plain": [
              "<Figure size 640x480 with 1 Axes>"
            ]
          },
          "metadata": {},
          "output_type": "display_data"
        }
      ],
      "source": [
        "monthly_views = df.groupby(df['last_watch_dt'])['total_dur'].mean()\n",
        "plt.plot(monthly_views)\n",
        "plt.xlabel('Days')\n",
        "plt.ylabel('mean Total_dur') #  средняя общая продолжительность всех просмотров данного контента в секундах\n",
        "plt.title('Seasonal Variation in Movie Views')\n",
        "plt.show()"
      ]
    },
    {
      "cell_type": "markdown",
      "id": "ed6620ef",
      "metadata": {},
      "source": [
        "Данные по просмотру контента собраны за ~6 месяцев, с 2021-03-13 по 2021-08-22  включительно. Видно, что с началом лета Общая продолжительность всех просмотров данного контента в секундах имеет резкий пик. А именно два пика с началом июня и июля. Это связано с тем, что у многих школьников/студентов в это время начинаются каникулы, а у взрослых отпуска."
      ]
    },
    {
      "cell_type": "markdown",
      "id": "c1220167",
      "metadata": {},
      "source": [
        "ПРИМЕР №3 Сезонные колебания"
      ]
    },
    {
      "cell_type": "code",
      "execution_count": 38,
      "id": "1cda6400",
      "metadata": {},
      "outputs": [
        {
          "data": {
            "image/png": "[encoded data removed]",
            "text/plain": [
              "<Figure size 640x480 with 1 Axes>"
            ]
          },
          "metadata": {},
          "output_type": "display_data"
        }
      ],
      "source": [
        "monthly_views = df.groupby(df['last_watch_dt'])['watched_pct'].mean()\n",
        "plt.plot(monthly_views)\n",
        "plt.xlabel('Days')\n",
        "plt.ylabel('Average Watched Percentage')\n",
        "plt.title('Seasonal Variation in Movie Views')\n",
        "plt.show()"
      ]
    },
    {
      "cell_type": "markdown",
      "id": "c0a48209",
      "metadata": {},
      "source": [
        "Данная зависимость также характеризует сезонность продолжительности просмотров. Видно, что с окончанием лета(Данные по просмотру контента собраны за ~6 месяцев, с 2021-03-13 по 2021-08-22  включительно) продолжительность просмотров резко падает, из-за начала учебного года/ конца отпусков и т.д."
      ]
    },
    {
      "cell_type": "markdown",
      "id": "1a7a70a7",
      "metadata": {},
      "source": [
        "ПРИМЕР №4 зависимость среднего времени последнего просмотра контента от процента просмотра (watched_pct)"
      ]
    },
    {
      "cell_type": "code",
      "execution_count": 39,
      "id": "c2d4fac1",
      "metadata": {},
      "outputs": [
        {
          "name": "stdout",
          "output_type": "stream",
          "text": [
            "Название фильма: Донбасс. Окраина\n"
          ]
        },
        {
          "data": {
            "image/png": "[encoded data removed]",
            "text/plain": [
              "<Figure size 640x480 with 1 Axes>"
            ]
          },
          "metadata": {},
          "output_type": "display_data"
        }
      ],
      "source": [
        "popular_items = df.item_id.value_counts()[:300].index.tolist() # 300 самых популярных items //Функция value_counts() подсчитывает уникальные значения и их частоту\n",
        "sampled_id = np.random.choice(popular_items)\n",
        "\n",
        "# это для примера, хотя выцеплять случаи по одному может быть не лучшей идеей\n",
        "# выбираются все взаимодействия (строки) из DataFrame df, где item_id соответствует sampled_id\n",
        "interactions = df.loc[df.item_id==sampled_id].copy()\n",
        "interactions.head()\n",
        "name = items.loc[items.item_id==sampled_id].title.values[0]\n",
        "print(f'Название фильма: {name}')\n",
        "\n",
        "monthly_views = interactions.groupby(interactions['watched_pct'])['last_watch_dt'].mean()\n",
        "plt.plot(monthly_views) # ОТФИЛЬТРОВАТЬ ПО ФИЛЬМУ \n",
        "plt.xlabel('w_pct')\n",
        "plt.ylabel('last_watch_dt') #  средняя общая продолжительность всех просмотров данного контента в секундах\n",
        "plt.show()"
      ]
    },
    {
      "cell_type": "markdown",
      "id": "b0b4be59",
      "metadata": {},
      "source": [
        "Стабильность: Если среднее время последнего просмотра остается примерно одинаковым независимо от процента просмотра, это может указывать на стабильный интерес к контенту со временем. В этом случае можно предположить, что контент имеет постоянную аудитрию."
      ]
    },
    {
      "cell_type": "markdown",
      "id": "7597d4c1-68c8-4187-92ee-79cb44a84de8",
      "metadata": {
        "id": "7597d4c1-68c8-4187-92ee-79cb44a84de8"
      },
      "source": [
        "**Задание №5. User-item encoding**\n",
        "\n",
        "Теперь создайте матрицу интеракций user-item по примеру из семинара. Вам нужно в итоге получить sparse matrix, в которой в качестве строк будут пользователи, в качестве колонок айтемы. Не забудьте закодировать пользователей и айтемы к \"внутренней кодировке\". В отличие от семинара, оставьте в матрице только юзеров и айтемы, которые встречались в матрице > 4 раз."
      ]
    },
    {
      "cell_type": "markdown",
      "id": "4ee1dd61-2f92-420d-96ce-3185dd80cb81",
      "metadata": {
        "id": "4ee1dd61-2f92-420d-96ce-3185dd80cb81"
      },
      "source": [
        "Важно: когда вы отфильтруете юзеров на встречаемость > 4 раз, вы удалите какие-то айтемы, которые теперь станут встречаться меньше 5 раз. Поэтому у вас второе условие на минимальное число интеракций с айтемом перестанет выполняться. Тогда вам надо опять отфильтровать айтемы на встречаемость, но это может нарушить снова условие для юзеров. В таком случае, вам надо написать итеративный алгоритм до сходимости, пока в обоих колонках не будет выполняться требование"
      ]
    },
    {
      "cell_type": "code",
      "execution_count": 40,
      "id": "1c4a5a4a-eabf-4145-b081-53881e5ce9c1",
      "metadata": {
        "id": "1c4a5a4a-eabf-4145-b081-53881e5ce9c1"
      },
      "outputs": [],
      "source": [
        "def filter_column(df, min_freq):\n",
        "    \"\"\"\n",
        "    Filter dataframe, excluding least active users and lest popular items.\n",
        "    Should return copy of the dataframe with at least min_freq entries\n",
        "    in both users and items\n",
        "    \"\"\"\n",
        "    filtered_df = df.copy()\n",
        "    user_counts = df['user_id'].value_counts() # {user : кол-во (популярность)}\n",
        "    item_counts = df['item_id'].value_counts()\n",
        "    # фильтруем \n",
        "    filtered_df  = filtered_df[df['user_id'].isin(user_counts[user_counts >= min_freq].index)] \n",
        "    filtered_df  = filtered_df[df['item_id'].isin(item_counts[item_counts >= min_freq].index)]\n",
        "\n",
        "    return filtered_df \n",
        "\n",
        "\n",
        "def filter_dataframe(df, cols, min_freq=4): \n",
        "    \"\"\"\n",
        "    Filter dataframe by given columns until each of them satisfies\n",
        "    min_freq condition, guaranteed by filter_columns. Should return copy\n",
        "    of the dataframe\n",
        "    \"\"\"\n",
        "    filtered_df = df.copy()\n",
        "    for col in cols:\n",
        "        filtered_df = filter_column(filtered_df, min_freq)\n",
        "\n",
        "    \n",
        "    return filtered_df"
      ]
    },
    {
      "cell_type": "code",
      "execution_count": 57,
      "id": "cb6fc4d0",
      "metadata": {},
      "outputs": [
        {
          "name": "stderr",
          "output_type": "stream",
          "text": [
            "C:\\Users\\master\\AppData\\Local\\Temp\\ipykernel_15116\\1042251673.py:12: UserWarning: Boolean Series key will be reindexed to match DataFrame index.\n",
            "  filtered_df  = filtered_df[df['item_id'].isin(item_counts[item_counts >= min_freq].index)]\n",
            "C:\\Users\\master\\AppData\\Local\\Temp\\ipykernel_15116\\1042251673.py:12: UserWarning: Boolean Series key will be reindexed to match DataFrame index.\n",
            "  filtered_df  = filtered_df[df['item_id'].isin(item_counts[item_counts >= min_freq].index)]\n"
          ]
        },
        {
          "data": {
            "text/plain": [
              "(    user_id  item_id  last_watch_dt  total_dur  watched_pct\n",
              " 0    176549     9506             59       4250         72.0\n",
              " 1    699317     1659             77       8317        100.0\n",
              " 6   1016458      354            154       1672         25.0\n",
              " 14     5324     8437             36       6598         92.0\n",
              " 18   927973     9617             98       8422        100.0,\n",
              " (1603997, 5))"
            ]
          },
          "execution_count": 57,
          "metadata": {},
          "output_type": "execute_result"
        }
      ],
      "source": [
        "filtered_train = filter_dataframe(df, ['user_id', 'item_id'], 25)\n",
        "filtered_train.head(), filtered_train.shape"
      ]
    },
    {
      "cell_type": "code",
      "execution_count": 59,
      "id": "a02c1fe8-2068-43d2-9851-edd67b5866c2",
      "metadata": {
        "colab": {
          "base_uri": "https://localhost:8080/",
          "height": 373
        },
        "id": "a02c1fe8-2068-43d2-9851-edd67b5866c2",
        "outputId": "0bcbad24-be0f-4b47-8d98-ea72f7ebe2e9"
      },
      "outputs": [
        {
          "data": {
            "text/plain": [
              "(    user_id  item_id  last_watch_dt  total_dur  watched_pct\n",
              " 0         0        0             59       4250         72.0\n",
              " 1         1        1             77       8317        100.0\n",
              " 6         2        2            154       1672         25.0\n",
              " 14        3        3             36       6598         92.0\n",
              " 18        4        4             98       8422        100.0,\n",
              "          user_id  item_id  last_watch_dt  total_dur  watched_pct\n",
              " 3512809     3692     3124            162        409          7.0\n",
              " 4314427    17762      196             99          7          0.0\n",
              " 1665644    16257     1029             64        128          2.0\n",
              " 2615484    35860       92            136       5780         92.0\n",
              " 604817     28067      693             79       7578        100.0,\n",
              " (1603997, 5))"
            ]
          },
          "execution_count": 59,
          "metadata": {},
          "output_type": "execute_result"
        }
      ],
      "source": [
        "# def df_encode(df):\n",
        "#     df = df.copy()\n",
        "#     item2id = {k:v for v, k in enumerate(df.item_id.unique())}\n",
        "#     user2id = {k:v for v, k in enumerate(df.user_id.unique())}\n",
        "\n",
        "#     id2item = {k:v for v, k in item2id.items()}\n",
        "#     id2user = {k:v for v, k in user2id.items()}\n",
        "\n",
        "#     df['user_id'] = df.user_id.apply(lambda x: user2id[x])\n",
        "#     df['item_id'] = df.item_id.apply(lambda x: item2id[x])\n",
        "#     return df\n",
        "\n",
        "# filtered_train_encode = df_encode(filtered_train)\n",
        "# filtered_train_encode.head(), filtered_train_encode.sample(5), filtered_train_encode.shape"
      ]
    },
    {
      "cell_type": "markdown",
      "id": "72a4d5d9",
      "metadata": {},
      "source": [
        "Матрицу интеракций user-item "
      ]
    },
    {
      "cell_type": "code",
      "execution_count": 161,
      "id": "bc7d7a5e",
      "metadata": {},
      "outputs": [
        {
          "data": {
            "text/html": [
              "<div>\n",
              "<style scoped>\n",
              "    .dataframe tbody tr th:only-of-type {\n",
              "        vertical-align: middle;\n",
              "    }\n",
              "\n",
              "    .dataframe tbody tr th {\n",
              "        vertical-align: top;\n",
              "    }\n",
              "\n",
              "    .dataframe thead th {\n",
              "        text-align: right;\n",
              "    }\n",
              "</style>\n",
              "<table border=\"1\" class=\"dataframe\">\n",
              "  <thead>\n",
              "    <tr style=\"text-align: right;\">\n",
              "      <th></th>\n",
              "      <th>user_id</th>\n",
              "      <th>item_id</th>\n",
              "    </tr>\n",
              "  </thead>\n",
              "  <tbody>\n",
              "    <tr>\n",
              "      <th>0</th>\n",
              "      <td>176549</td>\n",
              "      <td>9506</td>\n",
              "    </tr>\n",
              "    <tr>\n",
              "      <th>1</th>\n",
              "      <td>699317</td>\n",
              "      <td>1659</td>\n",
              "    </tr>\n",
              "    <tr>\n",
              "      <th>6</th>\n",
              "      <td>1016458</td>\n",
              "      <td>354</td>\n",
              "    </tr>\n",
              "    <tr>\n",
              "      <th>14</th>\n",
              "      <td>5324</td>\n",
              "      <td>8437</td>\n",
              "    </tr>\n",
              "    <tr>\n",
              "      <th>18</th>\n",
              "      <td>927973</td>\n",
              "      <td>9617</td>\n",
              "    </tr>\n",
              "  </tbody>\n",
              "</table>\n",
              "</div>"
            ],
            "text/plain": [
              "    user_id  item_id\n",
              "0    176549     9506\n",
              "1    699317     1659\n",
              "6   1016458      354\n",
              "14     5324     8437\n",
              "18   927973     9617"
            ]
          },
          "execution_count": 161,
          "metadata": {},
          "output_type": "execute_result"
        }
      ],
      "source": [
        "df_user_item_filtered = filtered_train[['user_id', 'item_id']]\n",
        "df_user_item_filtered.head()"
      ]
    },
    {
      "cell_type": "code",
      "execution_count": 162,
      "id": "06227a83",
      "metadata": {},
      "outputs": [
        {
          "name": "stderr",
          "output_type": "stream",
          "text": [
            "C:\\Users\\master\\AppData\\Local\\Temp\\ipykernel_15116\\4084846098.py:12: SettingWithCopyWarning: \n",
            "A value is trying to be set on a copy of a slice from a DataFrame.\n",
            "Try using .loc[row_indexer,col_indexer] = value instead\n",
            "\n",
            "See the caveats in the documentation: https://pandas.pydata.org/pandas-docs/stable/user_guide/indexing.html#returning-a-view-versus-a-copy\n",
            "  df_user_item_filtered['user_encoded'] = user_encoder.transform(df_user_item_filtered['user_id'])\n",
            "C:\\Users\\master\\AppData\\Local\\Temp\\ipykernel_15116\\4084846098.py:13: SettingWithCopyWarning: \n",
            "A value is trying to be set on a copy of a slice from a DataFrame.\n",
            "Try using .loc[row_indexer,col_indexer] = value instead\n",
            "\n",
            "See the caveats in the documentation: https://pandas.pydata.org/pandas-docs/stable/user_guide/indexing.html#returning-a-view-versus-a-copy\n",
            "  df_user_item_filtered['item_encoded'] = item_encoder.transform(df_user_item_filtered['item_id'])\n"
          ]
        },
        {
          "data": {
            "text/plain": [
              "(array([[0, 0, 0, ..., 0, 0, 0],\n",
              "        [0, 0, 0, ..., 0, 0, 0],\n",
              "        [0, 0, 0, ..., 0, 0, 0],\n",
              "        ...,\n",
              "        [0, 0, 0, ..., 0, 0, 0],\n",
              "        [0, 0, 0, ..., 0, 0, 0],\n",
              "        [0, 0, 0, ..., 0, 1, 0]], dtype=int64),\n",
              " (36476, 4964))"
            ]
          },
          "execution_count": 162,
          "metadata": {},
          "output_type": "execute_result"
        }
      ],
      "source": [
        "from scipy.sparse import csr_matrix\n",
        "import pandas as pd\n",
        "from sklearn.preprocessing import LabelEncoder\n",
        "#Кодирование пользователей и айтемов к \"внутренней кодировке\"\n",
        "\n",
        "user_encoder = LabelEncoder()\n",
        "item_encoder = LabelEncoder()\n",
        "\n",
        "user_encoder.fit(df_user_item_filtered['user_id'])\n",
        "item_encoder.fit(df_user_item_filtered['item_id'])\n",
        "\n",
        "df_user_item_filtered['user_encoded'] = user_encoder.transform(df_user_item_filtered['user_id'])\n",
        "df_user_item_filtered['item_encoded'] = item_encoder.transform(df_user_item_filtered['item_id'])\n",
        "\n",
        "# Создание sparse матрицы user-item\n",
        "num_users = df_user_item_filtered['user_encoded'].nunique()\n",
        "num_items = df_user_item_filtered['item_encoded'].nunique()\n",
        "\n",
        "user_item_matrix = csr_matrix((np.ones_like(df_user_item_filtered['user_encoded']), \n",
        "                            (df_user_item_filtered['user_encoded'], df_user_item_filtered['item_encoded'])), \n",
        "                            shape=(num_users, num_items))\n",
        "\n",
        "user_item_matrix.toarray(), user_item_matrix.shape"
      ]
    },
    {
      "cell_type": "code",
      "execution_count": 163,
      "id": "f14b745e",
      "metadata": {},
      "outputs": [
        {
          "data": {
            "text/plain": [
              "(36476, 4964)"
            ]
          },
          "execution_count": 163,
          "metadata": {},
          "output_type": "execute_result"
        }
      ],
      "source": [
        "user_item_matrix.shape"
      ]
    },
    {
      "cell_type": "code",
      "execution_count": 164,
      "id": "cb0760a7-5667-41a5-b47e-12f297ed3d1e",
      "metadata": {
        "colab": {
          "base_uri": "https://localhost:8080/"
        },
        "id": "cb0760a7-5667-41a5-b47e-12f297ed3d1e",
        "outputId": "678f4947-3a6f-4605-bfaf-8a352b2098ab"
      },
      "outputs": [],
      "source": [
        "# from scipy import sparse as sps\n",
        "\n",
        "# df_encode = filtered_train_encode\n",
        "item2id = {k:v for v, k in enumerate(df_user_item_filtered.item_id.unique())}\n",
        "user2id = {k:v for v, k in enumerate(df_user_item_filtered.user_id.unique())}\n",
        "id2item = {k:v for v, k in item2id.items()}\n"
      ]
    },
    {
      "cell_type": "markdown",
      "id": "CsAJ72grYlLZ",
      "metadata": {
        "id": "CsAJ72grYlLZ"
      },
      "source": [
        "**Задание №6. Интерации и частота**\n",
        "\n",
        "Нужно построить график на число айтемов и юзеров, которые остаются в матрице интеракций в зависимости от строгости фильтров на встречаемость. То есть нужно выполнить задание №5 для нескольких значений `min_freq` и построить график зависимости числа оставшихся айтемов и юзеров от этого параметра"
      ]
    },
    {
      "cell_type": "code",
      "execution_count": 167,
      "id": "G-UH_tXBYm9p",
      "metadata": {
        "id": "G-UH_tXBYm9p"
      },
      "outputs": [
        {
          "name": "stderr",
          "output_type": "stream",
          "text": [
            "C:\\Users\\master\\AppData\\Local\\Temp\\ipykernel_15116\\1042251673.py:12: UserWarning: Boolean Series key will be reindexed to match DataFrame index.\n",
            "  filtered_df  = filtered_df[df['item_id'].isin(item_counts[item_counts >= min_freq].index)]\n",
            "C:\\Users\\master\\AppData\\Local\\Temp\\ipykernel_15116\\1042251673.py:12: UserWarning: Boolean Series key will be reindexed to match DataFrame index.\n",
            "  filtered_df  = filtered_df[df['item_id'].isin(item_counts[item_counts >= min_freq].index)]\n",
            "C:\\Users\\master\\AppData\\Local\\Temp\\ipykernel_15116\\1042251673.py:12: UserWarning: Boolean Series key will be reindexed to match DataFrame index.\n",
            "  filtered_df  = filtered_df[df['item_id'].isin(item_counts[item_counts >= min_freq].index)]\n",
            "C:\\Users\\master\\AppData\\Local\\Temp\\ipykernel_15116\\1042251673.py:12: UserWarning: Boolean Series key will be reindexed to match DataFrame index.\n",
            "  filtered_df  = filtered_df[df['item_id'].isin(item_counts[item_counts >= min_freq].index)]\n",
            "C:\\Users\\master\\AppData\\Local\\Temp\\ipykernel_15116\\1042251673.py:12: UserWarning: Boolean Series key will be reindexed to match DataFrame index.\n",
            "  filtered_df  = filtered_df[df['item_id'].isin(item_counts[item_counts >= min_freq].index)]\n",
            "C:\\Users\\master\\AppData\\Local\\Temp\\ipykernel_15116\\1042251673.py:12: UserWarning: Boolean Series key will be reindexed to match DataFrame index.\n",
            "  filtered_df  = filtered_df[df['item_id'].isin(item_counts[item_counts >= min_freq].index)]\n",
            "C:\\Users\\master\\AppData\\Local\\Temp\\ipykernel_15116\\1042251673.py:12: UserWarning: Boolean Series key will be reindexed to match DataFrame index.\n",
            "  filtered_df  = filtered_df[df['item_id'].isin(item_counts[item_counts >= min_freq].index)]\n",
            "C:\\Users\\master\\AppData\\Local\\Temp\\ipykernel_15116\\1042251673.py:12: UserWarning: Boolean Series key will be reindexed to match DataFrame index.\n",
            "  filtered_df  = filtered_df[df['item_id'].isin(item_counts[item_counts >= min_freq].index)]\n",
            "C:\\Users\\master\\AppData\\Local\\Temp\\ipykernel_15116\\1042251673.py:12: UserWarning: Boolean Series key will be reindexed to match DataFrame index.\n",
            "  filtered_df  = filtered_df[df['item_id'].isin(item_counts[item_counts >= min_freq].index)]\n",
            "C:\\Users\\master\\AppData\\Local\\Temp\\ipykernel_15116\\1042251673.py:12: UserWarning: Boolean Series key will be reindexed to match DataFrame index.\n",
            "  filtered_df  = filtered_df[df['item_id'].isin(item_counts[item_counts >= min_freq].index)]\n",
            "C:\\Users\\master\\AppData\\Local\\Temp\\ipykernel_15116\\1042251673.py:12: UserWarning: Boolean Series key will be reindexed to match DataFrame index.\n",
            "  filtered_df  = filtered_df[df['item_id'].isin(item_counts[item_counts >= min_freq].index)]\n",
            "C:\\Users\\master\\AppData\\Local\\Temp\\ipykernel_15116\\1042251673.py:12: UserWarning: Boolean Series key will be reindexed to match DataFrame index.\n",
            "  filtered_df  = filtered_df[df['item_id'].isin(item_counts[item_counts >= min_freq].index)]\n",
            "C:\\Users\\master\\AppData\\Local\\Temp\\ipykernel_15116\\1042251673.py:12: UserWarning: Boolean Series key will be reindexed to match DataFrame index.\n",
            "  filtered_df  = filtered_df[df['item_id'].isin(item_counts[item_counts >= min_freq].index)]\n",
            "C:\\Users\\master\\AppData\\Local\\Temp\\ipykernel_15116\\1042251673.py:12: UserWarning: Boolean Series key will be reindexed to match DataFrame index.\n",
            "  filtered_df  = filtered_df[df['item_id'].isin(item_counts[item_counts >= min_freq].index)]\n",
            "C:\\Users\\master\\AppData\\Local\\Temp\\ipykernel_15116\\1042251673.py:12: UserWarning: Boolean Series key will be reindexed to match DataFrame index.\n",
            "  filtered_df  = filtered_df[df['item_id'].isin(item_counts[item_counts >= min_freq].index)]\n",
            "C:\\Users\\master\\AppData\\Local\\Temp\\ipykernel_15116\\1042251673.py:12: UserWarning: Boolean Series key will be reindexed to match DataFrame index.\n",
            "  filtered_df  = filtered_df[df['item_id'].isin(item_counts[item_counts >= min_freq].index)]\n",
            "C:\\Users\\master\\AppData\\Local\\Temp\\ipykernel_15116\\1042251673.py:12: UserWarning: Boolean Series key will be reindexed to match DataFrame index.\n",
            "  filtered_df  = filtered_df[df['item_id'].isin(item_counts[item_counts >= min_freq].index)]\n",
            "C:\\Users\\master\\AppData\\Local\\Temp\\ipykernel_15116\\1042251673.py:12: UserWarning: Boolean Series key will be reindexed to match DataFrame index.\n",
            "  filtered_df  = filtered_df[df['item_id'].isin(item_counts[item_counts >= min_freq].index)]\n"
          ]
        },
        {
          "data": {
            "image/png": "[encoded data removed]",
            "text/plain": [
              "<Figure size 1000x600 with 1 Axes>"
            ]
          },
          "metadata": {},
          "output_type": "display_data"
        }
      ],
      "source": [
        "#Различные значения min_freq для анализа\n",
        "min_freq_values = [5, 10, 15, 20, 30, 39, 49, 59, 80]\n",
        "\n",
        "num_items_remaining = []\n",
        "num_users_remaining = []\n",
        "\n",
        "for min_freq in min_freq_values:\n",
        "    filtered_df = filter_dataframe(df, ['user_id', 'item_id'], min_freq)\n",
        "    \n",
        "    # Создание словарей item2id и user2id\n",
        "    item2id_plot = {item: idx for idx, item in enumerate(filtered_df['item_id'].unique())}\n",
        "    user2id_plot = {user: idx for idx, user in enumerate(filtered_df['user_id'].unique())}\n",
        "    \n",
        "    \n",
        "    num_items_remaining.append(len(item2id_plot))\n",
        "    num_users_remaining.append(len(user2id_plot))\n",
        "\n",
        "# Построение графика зависимости числа оставшихся айтемов и юзеров от параметра min_freq\n",
        "plt.figure(figsize=(10, 6))\n",
        "plt.plot(min_freq_values, num_items_remaining, label='Number of Items Remaining')\n",
        "plt.plot(min_freq_values, num_users_remaining, label='Number of Users Remaining')\n",
        "plt.xlabel('Min Frequency')\n",
        "plt.ylabel('Number of Items/Users')\n",
        "plt.title('Number of Items and Users Remaining vs Min Frequency')\n",
        "plt.legend()\n",
        "plt.grid()\n",
        "plt.show()\n",
        "None"
      ]
    },
    {
      "cell_type": "markdown",
      "id": "d388eb41-094d-4317-9ae6-391a5b014a92",
      "metadata": {
        "id": "d388eb41-094d-4317-9ae6-391a5b014a92"
      },
      "source": [
        "**Задание №7. EASE**\n",
        "\n",
        "Реализуйте EASE, постройте рекомендации для юзеров. Сравните все метрики качества с `TopPopular` для некоторого набора k"
      ]
    },
    {
      "cell_type": "markdown",
      "id": "acccc267-038b-4029-ba63-38e875f87a67",
      "metadata": {
        "id": "acccc267-038b-4029-ba63-38e875f87a67"
      },
      "source": [
        "Реализацию можно взять из семинара. Можно реализовать по статье https://arxiv.org/pdf/1905.03375.pdf. Можно взять и адаптировать из RecBole https://github.com/RUCAIBox/RecBole"
      ]
    },
    {
      "cell_type": "code",
      "execution_count": 264,
      "id": "9ecada36",
      "metadata": {},
      "outputs": [],
      "source": [
        "import numpy as np\n",
        "import scipy.sparse as sps\n",
        "\n",
        "def fit_ease(matrix, lambda_reg=20000):\n",
        "    #  Грам-матрица\n",
        "    G = matrix.T.dot(matrix)  \n",
        "    #индексы элементов на диагонали\n",
        "    diagIndices = np.diag_indices(G.A.shape[0])\n",
        "    G[diagIndices] += lambda_reg\n",
        "\n",
        "    #Вычислить обратную Грам-матрицу.\n",
        "    P = np.linalg.inv(G.A)\n",
        "    B = P / (-np.diag(P))\n",
        "    B[diagIndices] = 0\n",
        "    \n",
        "    return B"
      ]
    },
    {
      "cell_type": "code",
      "execution_count": 265,
      "id": "7d1816e5",
      "metadata": {},
      "outputs": [
        {
          "data": {
            "text/plain": [
              "((4964, 4964),\n",
              " array([[ 0.00000000e+00,  4.34578049e-05, -5.03268095e-05, ...,\n",
              "          2.40158040e-05,  4.17407597e-05, -1.42001250e-06],\n",
              "        [ 4.34296369e-05,  0.00000000e+00, -2.65435551e-05, ...,\n",
              "         -2.71574178e-05, -7.90684533e-05, -1.75297707e-06],\n",
              "        [-4.65344497e-05, -2.45592931e-05,  0.00000000e+00, ...,\n",
              "          1.27636521e-04,  4.13542268e-03,  8.82718821e-05],\n",
              "        ...,\n",
              "        [ 2.31220361e-05, -2.61636907e-05,  1.32901143e-04, ...,\n",
              "          0.00000000e+00,  1.50966379e-03,  4.72440500e-05],\n",
              "        [ 3.76665890e-05, -7.13971335e-05,  4.03590251e-03, ...,\n",
              "          1.41497003e-03,  0.00000000e+00,  1.38108678e-04],\n",
              "        [-1.41923000e-06, -1.75314742e-06,  9.54130584e-05, ...,\n",
              "          4.90431990e-05,  1.52962734e-04,  0.00000000e+00]]))"
            ]
          },
          "execution_count": 265,
          "metadata": {},
          "output_type": "execute_result"
        }
      ],
      "source": [
        "# Пример вызова функции fit_ease с матрицей matrix\n",
        "W = fit_ease(user_item_matrix)\n",
        "W.shape, W"
      ]
    },
    {
      "cell_type": "code",
      "execution_count": 218,
      "id": "113d9227",
      "metadata": {},
      "outputs": [],
      "source": [
        "import numpy as np\n",
        "\n",
        "def get_preds(test_interactions, item2id, id2item, w, topn):\n",
        "    all_preds = []\n",
        "\n",
        "    for user_id, item_id in test_interactions:\n",
        "        user_vector = np.zeros(len(item2id))\n",
        "        if item_id in item2id:\n",
        "            user_vector[item2id[item_id]] = 1\n",
        "\n",
        "        preds = user_vector.dot(w)  # Умножаем на матрицу весов\n",
        "        \n",
        "        # Декодируем предсказания\n",
        "        decoded = [id2item[i] for i in np.argsort(-preds)]\n",
        "        all_preds.append(decoded[:topn])\n",
        "    \n",
        "    return all_preds[0]"
      ]
    },
    {
      "cell_type": "code",
      "execution_count": 242,
      "id": "c934b662",
      "metadata": {},
      "outputs": [
        {
          "name": "stdout",
          "output_type": "stream",
          "text": [
            "[(10515, 153), (7310, 154)]\n",
            "[9506, 12104, 5138, 14466, 242, 3857, 8216, 15352, 14256, 15876, 9055, 8111, 8606, 1572, 11061, 12567, 4358, 10020, 4590, 13450]\n"
          ]
        }
      ],
      "source": [
        "x = joined['test_interactions'][1000]\n",
        "print(x)\n",
        "preds = get_preds(x, item2id, id2item, W, 20)\n",
        "print(preds)"
      ]
    },
    {
      "cell_type": "markdown",
      "id": "cd9ab2fa",
      "metadata": {},
      "source": [
        "Далее вам надо реализовать функцию получения предсказаний. У вас есть обученная матрица весов, которую можно использовать для получения предсказаний. Для этого нужно построить вектор интеракций пользователя, и умножить его на матрицу весов"
      ]
    },
    {
      "cell_type": "code",
      "execution_count": 85,
      "id": "07b38175",
      "metadata": {},
      "outputs": [
        {
          "data": {
            "text/html": [
              "<div>\n",
              "<style scoped>\n",
              "    .dataframe tbody tr th:only-of-type {\n",
              "        vertical-align: middle;\n",
              "    }\n",
              "\n",
              "    .dataframe tbody tr th {\n",
              "        vertical-align: top;\n",
              "    }\n",
              "\n",
              "    .dataframe thead th {\n",
              "        text-align: right;\n",
              "    }\n",
              "</style>\n",
              "<table border=\"1\" class=\"dataframe\">\n",
              "  <thead>\n",
              "    <tr style=\"text-align: right;\">\n",
              "      <th></th>\n",
              "      <th>user_id</th>\n",
              "      <th>train_interactions</th>\n",
              "      <th>test_interactions</th>\n",
              "      <th>random_recs</th>\n",
              "      <th>toppopular_recs</th>\n",
              "      <th>toppopular_recs_window</th>\n",
              "      <th>ease_preds</th>\n",
              "    </tr>\n",
              "  </thead>\n",
              "  <tbody>\n",
              "    <tr>\n",
              "      <th>0</th>\n",
              "      <td>53</td>\n",
              "      <td>[(13865, 110), (7571, 110), (10440, 115), (161...</td>\n",
              "      <td>[(16426, 155), (1445, 157), (15629, 157), (158...</td>\n",
              "      <td>[12325, 13290, 13609]</td>\n",
              "      <td>[10440, 9728, 15297, 13865, 3734, 4151, 4880, ...</td>\n",
              "      <td>[10440, 9728, 15297, 13865, 3734, 4151, 4880, ...</td>\n",
              "      <td>[519, 387, 59, 1581, 161, 104, 685, 54, 1063, ...</td>\n",
              "    </tr>\n",
              "    <tr>\n",
              "      <th>1</th>\n",
              "      <td>119</td>\n",
              "      <td>[(9728, 134), (4436, 135)]</td>\n",
              "      <td>[(4266, 154), (15719, 154), (3999, 154)]</td>\n",
              "      <td>[12325, 13290, 13609]</td>\n",
              "      <td>[10440, 9728, 15297, 13865, 3734, 4151, 4880, ...</td>\n",
              "      <td>[10440, 9728, 15297, 13865, 3734, 4151, 4880, ...</td>\n",
              "      <td>[330, 195, 391, 1389, 314, 214, 122, 1366, 603...</td>\n",
              "    </tr>\n",
              "    <tr>\n",
              "      <th>2</th>\n",
              "      <td>144</td>\n",
              "      <td>[(9728, 126), (13865, 128), (741, 130), (15297...</td>\n",
              "      <td>[(4151, 155), (10942, 157), (8821, 157), (3734...</td>\n",
              "      <td>[12325, 13290, 13609]</td>\n",
              "      <td>[10440, 9728, 15297, 13865, 3734, 4151, 4880, ...</td>\n",
              "      <td>[10440, 9728, 15297, 13865, 3734, 4151, 4880, ...</td>\n",
              "      <td>[519, 387, 59, 1581, 161, 104, 685, 54, 1063, ...</td>\n",
              "    </tr>\n",
              "    <tr>\n",
              "      <th>3</th>\n",
              "      <td>229</td>\n",
              "      <td>[(11275, 110), (4151, 110), (1699, 126), (1460...</td>\n",
              "      <td>[(14910, 153), (10440, 160), (3697, 161)]</td>\n",
              "      <td>[12325, 13290, 13609]</td>\n",
              "      <td>[10440, 9728, 15297, 13865, 3734, 4151, 4880, ...</td>\n",
              "      <td>[10440, 9728, 15297, 13865, 3734, 4151, 4880, ...</td>\n",
              "      <td>[1897, 11, 1548, 749, 155, 1471, 1853, 685, 15...</td>\n",
              "    </tr>\n",
              "    <tr>\n",
              "      <th>4</th>\n",
              "      <td>304</td>\n",
              "      <td>[(11985, 71), (2301, 71), (175, 75), (4457, 99...</td>\n",
              "      <td>[(6054, 161), (4073, 161)]</td>\n",
              "      <td>[12325, 13290, 13609]</td>\n",
              "      <td>[10440, 9728, 15297, 13865, 3734, 4151, 4880, ...</td>\n",
              "      <td>[10440, 9728, 15297, 13865, 3734, 4151, 4880, ...</td>\n",
              "      <td>[155, 950, 460, 401, 169, 762, 1730, 1044, 937...</td>\n",
              "    </tr>\n",
              "  </tbody>\n",
              "</table>\n",
              "</div>"
            ],
            "text/plain": [
              "   user_id                                 train_interactions  \\\n",
              "0       53  [(13865, 110), (7571, 110), (10440, 115), (161...   \n",
              "1      119                         [(9728, 134), (4436, 135)]   \n",
              "2      144  [(9728, 126), (13865, 128), (741, 130), (15297...   \n",
              "3      229  [(11275, 110), (4151, 110), (1699, 126), (1460...   \n",
              "4      304  [(11985, 71), (2301, 71), (175, 75), (4457, 99...   \n",
              "\n",
              "                                   test_interactions            random_recs  \\\n",
              "0  [(16426, 155), (1445, 157), (15629, 157), (158...  [12325, 13290, 13609]   \n",
              "1           [(4266, 154), (15719, 154), (3999, 154)]  [12325, 13290, 13609]   \n",
              "2  [(4151, 155), (10942, 157), (8821, 157), (3734...  [12325, 13290, 13609]   \n",
              "3          [(14910, 153), (10440, 160), (3697, 161)]  [12325, 13290, 13609]   \n",
              "4                         [(6054, 161), (4073, 161)]  [12325, 13290, 13609]   \n",
              "\n",
              "                                     toppopular_recs  \\\n",
              "0  [10440, 9728, 15297, 13865, 3734, 4151, 4880, ...   \n",
              "1  [10440, 9728, 15297, 13865, 3734, 4151, 4880, ...   \n",
              "2  [10440, 9728, 15297, 13865, 3734, 4151, 4880, ...   \n",
              "3  [10440, 9728, 15297, 13865, 3734, 4151, 4880, ...   \n",
              "4  [10440, 9728, 15297, 13865, 3734, 4151, 4880, ...   \n",
              "\n",
              "                              toppopular_recs_window  \\\n",
              "0  [10440, 9728, 15297, 13865, 3734, 4151, 4880, ...   \n",
              "1  [10440, 9728, 15297, 13865, 3734, 4151, 4880, ...   \n",
              "2  [10440, 9728, 15297, 13865, 3734, 4151, 4880, ...   \n",
              "3  [10440, 9728, 15297, 13865, 3734, 4151, 4880, ...   \n",
              "4  [10440, 9728, 15297, 13865, 3734, 4151, 4880, ...   \n",
              "\n",
              "                                          ease_preds  \n",
              "0  [519, 387, 59, 1581, 161, 104, 685, 54, 1063, ...  \n",
              "1  [330, 195, 391, 1389, 314, 214, 122, 1366, 603...  \n",
              "2  [519, 387, 59, 1581, 161, 104, 685, 54, 1063, ...  \n",
              "3  [1897, 11, 1548, 749, 155, 1471, 1853, 685, 15...  \n",
              "4  [155, 950, 460, 401, 169, 762, 1730, 1044, 937...  "
            ]
          },
          "execution_count": 85,
          "metadata": {},
          "output_type": "execute_result"
        }
      ],
      "source": [
        "joined['ease_preds'] = joined.test_interactions.apply(lambda x: get_preds(x, item2id, id2item, W, 25))\n",
        "joined.head()"
      ]
    },
    {
      "cell_type": "code",
      "execution_count": 86,
      "id": "e22c6a71",
      "metadata": {},
      "outputs": [
        {
          "data": {
            "text/plain": [
              "{'MAP': 0.00038792053852580163, 'MRR': 0.0008580138222630483, 'HR': 0.003}"
            ]
          },
          "execution_count": 86,
          "metadata": {},
          "output_type": "execute_result"
        }
      ],
      "source": [
        "evaluate_recommender(joined, model_preds='ease_preds')"
      ]
    },
    {
      "cell_type": "markdown",
      "id": "24552dc3-4d5d-4e9c-bc16-691a3537e7d9",
      "metadata": {
        "id": "24552dc3-4d5d-4e9c-bc16-691a3537e7d9"
      },
      "source": [
        "Сделайте выводы — какой алгоритм работает лучше?\n",
        "\n",
        "**Ответ:**\n",
        "Судя по метрикам, лучше всего работает алгоритм TopPopular. Но есть предположение, что я неправильно реализовал функцию нахождения матрицы-схожести и функцию предсказания. Пробовал множество вариантов...Но всё равно на всех тестах метрики очень маленькие... "
      ]
    },
    {
      "cell_type": "markdown",
      "id": "9e2ecca7-92c2-4b1f-b5d3-4f9dd18a4632",
      "metadata": {
        "id": "9e2ecca7-92c2-4b1f-b5d3-4f9dd18a4632"
      },
      "source": [
        "**Задание №8. Тюнинг**\n",
        "\n",
        "Теперь проварьируйте параметр регуляризации у EASE и постройте все те же графики, что и в задании №6, только путем варирования различных значениях гиперпараметра коэффициента регуляризации. Постарайтесь \"затюнить\" EASE как можно лучше. Возьмите разумное число гиперпараметров - хотя бы штук 20 по логарифмической сетке, либо используйте более хитрые алгоритмы оптимизации"
      ]
    },
    {
      "cell_type": "code",
      "execution_count": 197,
      "id": "ea30203e",
      "metadata": {},
      "outputs": [],
      "source": [
        "joined_n = joined.head(1000)"
      ]
    },
    {
      "cell_type": "code",
      "execution_count": 198,
      "id": "c306d97a",
      "metadata": {},
      "outputs": [
        {
          "name": "stderr",
          "output_type": "stream",
          "text": [
            "C:\\Users\\master\\AppData\\Local\\Temp\\ipykernel_15116\\2089766893.py:1: SettingWithCopyWarning: \n",
            "A value is trying to be set on a copy of a slice from a DataFrame.\n",
            "Try using .loc[row_indexer,col_indexer] = value instead\n",
            "\n",
            "See the caveats in the documentation: https://pandas.pydata.org/pandas-docs/stable/user_guide/indexing.html#returning-a-view-versus-a-copy\n",
            "  joined_n['ease_preds'] = joined_n.test_interactions.apply(lambda x: get_preds(x, item2id, id2item, W, 20))\n"
          ]
        }
      ],
      "source": [
        "joined_n['ease_preds'] = joined_n.test_interactions.apply(lambda x: get_preds(x, item2id, id2item, W, 20))"
      ]
    },
    {
      "cell_type": "code",
      "execution_count": 199,
      "id": "dec1c525",
      "metadata": {},
      "outputs": [
        {
          "data": {
            "text/html": [
              "<div>\n",
              "<style scoped>\n",
              "    .dataframe tbody tr th:only-of-type {\n",
              "        vertical-align: middle;\n",
              "    }\n",
              "\n",
              "    .dataframe tbody tr th {\n",
              "        vertical-align: top;\n",
              "    }\n",
              "\n",
              "    .dataframe thead th {\n",
              "        text-align: right;\n",
              "    }\n",
              "</style>\n",
              "<table border=\"1\" class=\"dataframe\">\n",
              "  <thead>\n",
              "    <tr style=\"text-align: right;\">\n",
              "      <th></th>\n",
              "      <th>user_id</th>\n",
              "      <th>train_interactions</th>\n",
              "      <th>test_interactions</th>\n",
              "      <th>random_recs</th>\n",
              "      <th>toppopular_recs</th>\n",
              "      <th>toppopular_recs_window</th>\n",
              "      <th>ease_preds</th>\n",
              "    </tr>\n",
              "  </thead>\n",
              "  <tbody>\n",
              "    <tr>\n",
              "      <th>0</th>\n",
              "      <td>53</td>\n",
              "      <td>[(13865, 110), (7571, 110), (10440, 115), (161...</td>\n",
              "      <td>[(16426, 155), (1445, 157), (15629, 157), (158...</td>\n",
              "      <td>[12325, 13290, 13609]</td>\n",
              "      <td>[10440, 9728, 15297, 13865, 3734, 4151, 4880, ...</td>\n",
              "      <td>[10440, 9728, 15297, 13865, 3734, 4151, 4880, ...</td>\n",
              "      <td>[9506, 12104, 5138, 14466, 242, 3857, 8216, 15...</td>\n",
              "    </tr>\n",
              "    <tr>\n",
              "      <th>1</th>\n",
              "      <td>119</td>\n",
              "      <td>[(9728, 134), (4436, 135)]</td>\n",
              "      <td>[(4266, 154), (15719, 154), (3999, 154)]</td>\n",
              "      <td>[12325, 13290, 13609]</td>\n",
              "      <td>[10440, 9728, 15297, 13865, 3734, 4151, 4880, ...</td>\n",
              "      <td>[10440, 9728, 15297, 13865, 3734, 4151, 4880, ...</td>\n",
              "      <td>[9506, 12104, 5138, 14466, 242, 3857, 8216, 15...</td>\n",
              "    </tr>\n",
              "    <tr>\n",
              "      <th>2</th>\n",
              "      <td>144</td>\n",
              "      <td>[(9728, 126), (13865, 128), (741, 130), (15297...</td>\n",
              "      <td>[(4151, 155), (10942, 157), (8821, 157), (3734...</td>\n",
              "      <td>[12325, 13290, 13609]</td>\n",
              "      <td>[10440, 9728, 15297, 13865, 3734, 4151, 4880, ...</td>\n",
              "      <td>[10440, 9728, 15297, 13865, 3734, 4151, 4880, ...</td>\n",
              "      <td>[9506, 12104, 5138, 14466, 242, 3857, 8216, 15...</td>\n",
              "    </tr>\n",
              "    <tr>\n",
              "      <th>3</th>\n",
              "      <td>229</td>\n",
              "      <td>[(11275, 110), (4151, 110), (1699, 126), (1460...</td>\n",
              "      <td>[(14910, 153), (10440, 160), (3697, 161)]</td>\n",
              "      <td>[12325, 13290, 13609]</td>\n",
              "      <td>[10440, 9728, 15297, 13865, 3734, 4151, 4880, ...</td>\n",
              "      <td>[10440, 9728, 15297, 13865, 3734, 4151, 4880, ...</td>\n",
              "      <td>[9506, 12104, 5138, 14466, 242, 3857, 8216, 15...</td>\n",
              "    </tr>\n",
              "    <tr>\n",
              "      <th>4</th>\n",
              "      <td>304</td>\n",
              "      <td>[(11985, 71), (2301, 71), (175, 75), (4457, 99...</td>\n",
              "      <td>[(6054, 161), (4073, 161)]</td>\n",
              "      <td>[12325, 13290, 13609]</td>\n",
              "      <td>[10440, 9728, 15297, 13865, 3734, 4151, 4880, ...</td>\n",
              "      <td>[10440, 9728, 15297, 13865, 3734, 4151, 4880, ...</td>\n",
              "      <td>[9506, 12104, 5138, 14466, 242, 3857, 8216, 15...</td>\n",
              "    </tr>\n",
              "  </tbody>\n",
              "</table>\n",
              "</div>"
            ],
            "text/plain": [
              "   user_id                                 train_interactions  \\\n",
              "0       53  [(13865, 110), (7571, 110), (10440, 115), (161...   \n",
              "1      119                         [(9728, 134), (4436, 135)]   \n",
              "2      144  [(9728, 126), (13865, 128), (741, 130), (15297...   \n",
              "3      229  [(11275, 110), (4151, 110), (1699, 126), (1460...   \n",
              "4      304  [(11985, 71), (2301, 71), (175, 75), (4457, 99...   \n",
              "\n",
              "                                   test_interactions            random_recs  \\\n",
              "0  [(16426, 155), (1445, 157), (15629, 157), (158...  [12325, 13290, 13609]   \n",
              "1           [(4266, 154), (15719, 154), (3999, 154)]  [12325, 13290, 13609]   \n",
              "2  [(4151, 155), (10942, 157), (8821, 157), (3734...  [12325, 13290, 13609]   \n",
              "3          [(14910, 153), (10440, 160), (3697, 161)]  [12325, 13290, 13609]   \n",
              "4                         [(6054, 161), (4073, 161)]  [12325, 13290, 13609]   \n",
              "\n",
              "                                     toppopular_recs  \\\n",
              "0  [10440, 9728, 15297, 13865, 3734, 4151, 4880, ...   \n",
              "1  [10440, 9728, 15297, 13865, 3734, 4151, 4880, ...   \n",
              "2  [10440, 9728, 15297, 13865, 3734, 4151, 4880, ...   \n",
              "3  [10440, 9728, 15297, 13865, 3734, 4151, 4880, ...   \n",
              "4  [10440, 9728, 15297, 13865, 3734, 4151, 4880, ...   \n",
              "\n",
              "                              toppopular_recs_window  \\\n",
              "0  [10440, 9728, 15297, 13865, 3734, 4151, 4880, ...   \n",
              "1  [10440, 9728, 15297, 13865, 3734, 4151, 4880, ...   \n",
              "2  [10440, 9728, 15297, 13865, 3734, 4151, 4880, ...   \n",
              "3  [10440, 9728, 15297, 13865, 3734, 4151, 4880, ...   \n",
              "4  [10440, 9728, 15297, 13865, 3734, 4151, 4880, ...   \n",
              "\n",
              "                                          ease_preds  \n",
              "0  [9506, 12104, 5138, 14466, 242, 3857, 8216, 15...  \n",
              "1  [9506, 12104, 5138, 14466, 242, 3857, 8216, 15...  \n",
              "2  [9506, 12104, 5138, 14466, 242, 3857, 8216, 15...  \n",
              "3  [9506, 12104, 5138, 14466, 242, 3857, 8216, 15...  \n",
              "4  [9506, 12104, 5138, 14466, 242, 3857, 8216, 15...  "
            ]
          },
          "execution_count": 199,
          "metadata": {},
          "output_type": "execute_result"
        }
      ],
      "source": [
        "joined_n.head()"
      ]
    },
    {
      "cell_type": "code",
      "execution_count": 200,
      "id": "64dcaa8f",
      "metadata": {},
      "outputs": [
        {
          "data": {
            "text/plain": [
              "{'MAP': 0.0006445701357466064, 'MRR': 0.003499116569704805, 'HR': 0.01}"
            ]
          },
          "execution_count": 200,
          "metadata": {},
          "output_type": "execute_result"
        }
      ],
      "source": [
        "evaluate_recommender(joined_n, model_preds='ease_preds', gt_col='test_interactions')"
      ]
    },
    {
      "cell_type": "code",
      "execution_count": 201,
      "id": "e0837eb6-e81f-4543-b848-fdeacb7169ee",
      "metadata": {
        "id": "e0837eb6-e81f-4543-b848-fdeacb7169ee"
      },
      "outputs": [
        {
          "ename": "UFuncTypeError",
          "evalue": "Cannot cast ufunc 'add' output from dtype('float64') to dtype('int64') with casting rule 'same_kind'",
          "output_type": "error",
          "traceback": [
            "\u001b[1;31m---------------------------------------------------------------------------\u001b[0m",
            "\u001b[1;31mUFuncTypeError\u001b[0m                            Traceback (most recent call last)",
            "Cell \u001b[1;32mIn[201], line 12\u001b[0m\n\u001b[0;32m      8\u001b[0m results \u001b[38;5;241m=\u001b[39m []\n\u001b[0;32m     10\u001b[0m \u001b[38;5;28;01mfor\u001b[39;00m lambda_reg \u001b[38;5;129;01min\u001b[39;00m lambda_values:\n\u001b[0;32m     11\u001b[0m     \u001b[38;5;66;03m# Обучение модели EASE с текущим значением коэффициента регуляризации\u001b[39;00m\n\u001b[1;32m---> 12\u001b[0m     w \u001b[38;5;241m=\u001b[39m \u001b[43mfit_ease\u001b[49m\u001b[43m(\u001b[49m\u001b[43muser_item_matrix\u001b[49m\u001b[43m,\u001b[49m\u001b[43m \u001b[49m\u001b[43mlambda_reg\u001b[49m\u001b[38;5;241;43m=\u001b[39;49m\u001b[43mlambda_reg\u001b[49m\u001b[43m)\u001b[49m\n\u001b[0;32m     14\u001b[0m     \u001b[38;5;66;03m# Получение предсказаний для тестовых взаимодействий\u001b[39;00m\n\u001b[0;32m     15\u001b[0m     joined_n[\u001b[38;5;124m'\u001b[39m\u001b[38;5;124mease_preds\u001b[39m\u001b[38;5;124m'\u001b[39m] \u001b[38;5;241m=\u001b[39m joined_n\u001b[38;5;241m.\u001b[39mtest_interactions\u001b[38;5;241m.\u001b[39mapply(\u001b[38;5;28;01mlambda\u001b[39;00m x: get_preds(x, item2id, id2item, W, \u001b[38;5;241m20\u001b[39m))\n",
            "Cell \u001b[1;32mIn[174], line 9\u001b[0m, in \u001b[0;36mfit_ease\u001b[1;34m(matrix, lambda_reg)\u001b[0m\n\u001b[0;32m      7\u001b[0m \u001b[38;5;66;03m#индексы элементов на диагонали\u001b[39;00m\n\u001b[0;32m      8\u001b[0m diagIndices \u001b[38;5;241m=\u001b[39m np\u001b[38;5;241m.\u001b[39mdiag_indices(G\u001b[38;5;241m.\u001b[39mA\u001b[38;5;241m.\u001b[39mshape[\u001b[38;5;241m0\u001b[39m])\n\u001b[1;32m----> 9\u001b[0m G[diagIndices] \u001b[38;5;241m+\u001b[39m\u001b[38;5;241m=\u001b[39m lambda_reg\n\u001b[0;32m     11\u001b[0m \u001b[38;5;66;03m#Вычислить обратную Грам-матрицу.\u001b[39;00m\n\u001b[0;32m     12\u001b[0m P \u001b[38;5;241m=\u001b[39m np\u001b[38;5;241m.\u001b[39mlinalg\u001b[38;5;241m.\u001b[39minv(G\u001b[38;5;241m.\u001b[39mA)\n",
            "\u001b[1;31mUFuncTypeError\u001b[0m: Cannot cast ufunc 'add' output from dtype('float64') to dtype('int64') with casting rule 'same_kind'"
          ]
        }
      ],
      "source": [
        "import numpy as np\n",
        "import matplotlib.pyplot as plt\n",
        "\n",
        "# Создадим логарифмическую сетку значений для параметра регуляризации\n",
        "lambda_values = np.logspace(-3, 5, num=20)\n",
        "\n",
        "# Список для хранения результатов\n",
        "results = []\n",
        "\n",
        "for lambda_reg in lambda_values:\n",
        "    # Обучение модели EASE с текущим значением коэффициента регуляризации\n",
        "    w = fit_ease(user_item_matrix, lambda_reg=lambda_reg)\n",
        "    \n",
        "    # Получение предсказаний для тестовых взаимодействий\n",
        "    joined_n['ease_preds'] = joined_n.test_interactions.apply(lambda x: get_preds(x, item2id, id2item, W, 20))\n",
        "    \n",
        "    # Оценка модели и вычисление метрик\n",
        "    metric_values = evaluate_recommender(joined_n, model_preds='ease_preds', gt_col='test_interactions')\n",
        "    \n",
        "    results.append((lambda_reg, metric_values))\n",
        "\n",
        "# Разделение результатов на значения метрик\n",
        "MAP_values = [x[1]['MAP'] for x in results]\n",
        "MRR_values = [x[1]['MRR'] for x in results]\n",
        "HR_values = [x[1]['HR'] for x in results]\n",
        "\n",
        "# Построение графиков\n",
        "plt.figure(figsize=(12, 6))\n",
        "plt.subplot(2, 2, 1)\n",
        "plt.plot(lambda_values, MAP_values, marker='o')\n",
        "plt.xscale('log')\n",
        "plt.title('Mean Average Precision (MAP)')\n",
        "\n",
        "plt.subplot(2, 2, 2)\n",
        "plt.plot(lambda_values, MRR_values, marker='o')\n",
        "plt.xscale('log')\n",
        "plt.title('Mean Reciprocal Rank (MRR)')\n",
        "\n",
        "plt.subplot(2, 2, 3)\n",
        "plt.plot(lambda_values, HR_values, marker='o')\n",
        "plt.xscale('log')\n",
        "plt.title('Hit Rate (HR)')\n",
        "\n",
        "plt.tight_layout()\n",
        "plt.show()"
      ]
    },
    {
      "cell_type": "markdown",
      "id": "891c9613-3f51-4186-bfa1-566d82d0628f",
      "metadata": {
        "id": "891c9613-3f51-4186-bfa1-566d82d0628f"
      },
      "source": [
        "Ответьте на следующие вопросы:\n",
        "\n",
        "Какое значение гиперпараметра является наилучшим? \\\\\n",
        "**Ответ:**\n",
        "\n",
        "Что еще интересного вы можете сказать по графикам? Может быть, что-то свзяанное с распределением параметров, влиянием на отдельные метрики, скоростью тюнинга? \\\n",
        "**Ответ:**"
      ]
    },
    {
      "cell_type": "markdown",
      "id": "e38fcce4-b192-4faa-8ddf-8e8791f2c28b",
      "metadata": {
        "id": "e38fcce4-b192-4faa-8ddf-8e8791f2c28b"
      },
      "source": [
        "**Задание №9. EASE и topk**\n",
        "\n",
        "В лекции №2 говорилось, что качество у EASE растет с ослаблением фильтра на число айтемов. В этом задании постройте кривые метрик качества MAP/MRR/HR в зависимости от topk (например, от 1 до 100 с некоторым шагом), где кривая параметризована минимальным требуемым встречаемости user/item (из задания №6). Сделайте выводы"
      ]
    },
    {
      "cell_type": "markdown",
      "id": "ca0be51b-5055-407d-8916-96d38cdabdb7",
      "metadata": {
        "id": "ca0be51b-5055-407d-8916-96d38cdabdb7"
      },
      "source": [
        "Важно, в этом задании линии могут быть мало разлимыми, поэтому ваша задача для каждой метрики найти нужный масштаб на каких-то конкретных topk, чтобы линии стали отличимыми"
      ]
    },
    {
      "cell_type": "markdown",
      "id": "fec3b4b8-e2e0-4722-9f33-08922afe9ac8",
      "metadata": {
        "id": "fec3b4b8-e2e0-4722-9f33-08922afe9ac8"
      },
      "source": [
        "Что вы можете сказать по графикам? Соответствуют ли они вашим ожиданиям?\n",
        "\n",
        "**Ответ:**"
      ]
    },
    {
      "cell_type": "markdown",
      "id": "3448c27a-aadb-4c6a-b17a-84bd58761e67",
      "metadata": {
        "id": "3448c27a-aadb-4c6a-b17a-84bd58761e67"
      },
      "source": [
        "**Задание №10. Интерпретируемые рекомендации**\n",
        "\n",
        "Используйте выученную матрицу весов для item2item рекомендаций. Приведите 10 примеров топ-5 рекомендаций от EASE к сэмплируемым айтемам. Используйте названия фильмов"
      ]
    },
    {
      "cell_type": "code",
      "execution_count": 250,
      "id": "83946038-22e8-461f-8385-dd308a284825",
      "metadata": {
        "id": "83946038-22e8-461f-8385-dd308a284825"
      },
      "outputs": [],
      "source": [
        "def get_top_n_recommendations(item_id, item_weights, n=5):\n",
        "    # Получаем веса для данного айтема\n",
        "    weights = item_weights[item_id]\n",
        "    \n",
        "    # Сортируем индексы по убыванию весов и берем топ-N\n",
        "    top_indices = np.argsort(weights)[::-1][:n]\n",
        "    \n",
        "    return top_indices"
      ]
    },
    {
      "cell_type": "code",
      "execution_count": 267,
      "id": "d3c33c2d",
      "metadata": {},
      "outputs": [
        {
          "data": {
            "text/plain": [
              "array([[ 0.00000000e+00,  4.34578049e-05, -5.03268095e-05, ...,\n",
              "         2.40158040e-05,  4.17407597e-05, -1.42001250e-06],\n",
              "       [ 4.34296369e-05,  0.00000000e+00, -2.65435551e-05, ...,\n",
              "        -2.71574178e-05, -7.90684533e-05, -1.75297707e-06],\n",
              "       [-4.65344497e-05, -2.45592931e-05,  0.00000000e+00, ...,\n",
              "         1.27636521e-04,  4.13542268e-03,  8.82718821e-05],\n",
              "       ...,\n",
              "       [ 2.31220361e-05, -2.61636907e-05,  1.32901143e-04, ...,\n",
              "         0.00000000e+00,  1.50966379e-03,  4.72440500e-05],\n",
              "       [ 3.76665890e-05, -7.13971335e-05,  4.03590251e-03, ...,\n",
              "         1.41497003e-03,  0.00000000e+00,  1.38108678e-04],\n",
              "       [-1.41923000e-06, -1.75314742e-06,  9.54130584e-05, ...,\n",
              "         4.90431990e-05,  1.52962734e-04,  0.00000000e+00]])"
            ]
          },
          "execution_count": 267,
          "metadata": {},
          "output_type": "execute_result"
        }
      ],
      "source": [
        "# Получаем матрицу весов item2item с помощью EASE\n",
        "item_weights = fit_ease(user_item_matrix)\n",
        "item_weights"
      ]
    },
    {
      "cell_type": "code",
      "execution_count": 268,
      "id": "2cc615a2",
      "metadata": {},
      "outputs": [],
      "source": [
        "top_recommendations = get_top_n_recommendations(10, item_weights, n=5)"
      ]
    },
    {
      "cell_type": "code",
      "execution_count": 274,
      "id": "0122270b",
      "metadata": {},
      "outputs": [
        {
          "name": "stdout",
          "output_type": "stream",
          "text": [
            "Для айтема '0' рекомендуем: //(Поговори с ней)\n",
            "1. Enchantimals: Тайны снежной долины\n",
            "2. Уедем к чёртовой бабушке\n",
            "3. Заячья школа\n",
            "4. Невидимый мир\n",
            "5. В другой стране\n",
            "\n",
            "Для айтема '10' рекомендуем: //(Код «Красный»)\n",
            "1. Неугомонные цыплята\n",
            "2. [4К] Агатс, столица народа асмат. Западное Папуа\n",
            "3. Пока тюрьма не разлучит нас\n",
            "4. Джори\n",
            "5. Боудика королева воинов\n",
            "\n",
            "Для айтема '20' рекомендуем: //(Рождество трех медведей)\n",
            "1. Внеземное эхо\n",
            "2. Ужин с придурками\n",
            "3. Так начиналась легенда\n",
            "4. Камера\n",
            "5. Зеркало для героя\n",
            "\n",
            "Для айтема '30' рекомендуем: //(Золушка: Полный вперед!)\n",
            "1. Сатана\n",
            "2. Белый медведь, морское млекопитающее. Арктика\n",
            "3. Охота. Монте-Пердидо\n",
            "4. Последний раз, когда я видел Париж\n",
            "5. Сыщик\n",
            "\n",
            "Для айтема '40' рекомендуем: //(Да здравствует Франция!)\n",
            "1. Хочу как Бриджит\n",
            "2. Бобби и Билл\n",
            "3. Дружок\n",
            "4. Вивариум\n",
            "5. Зеленее травы\n",
            "\n"
          ]
        }
      ],
      "source": [
        "# Примеры топ-5 рекомендаций для сэмплируемых айтемов\n",
        "sample_item_ids = [0, 10, 20, 30, 40]  # Примеры сэмплируемых айтемов\n",
        "\n",
        "for item_id in sample_item_ids:\n",
        "    top_recommendations = get_top_n_recommendations(item_id, item_weights, n=5)\n",
        "\n",
        "    print(f\"Для айтема '{item_id}' рекомендуем: //({items['title'][item_id]})\")\n",
        "    for i, rec_id in enumerate(top_recommendations):\n",
        "        print(f\"{i+1}. {items['title'][rec_id]}\")\n",
        "    print()"
      ]
    },
    {
      "cell_type": "markdown",
      "id": "8fed8a63-c95d-458b-b437-2856927c85bb",
      "metadata": {
        "id": "8fed8a63-c95d-458b-b437-2856927c85bb"
      },
      "source": [
        "Хорошие ли получились рекомендации? Почему? Есть ли хорошие примеры? Есть ли плохие? Почему бывают плохие примеры?\n",
        "\n",
        "**Ответ:**\n",
        "-плохие рекомендации могут быть результатом недостаточной корреляции между айтемами в матрице весов item2item.\n",
        "-Плохие рекомендации могут возникать из-за недостаточного разнообразия данных или недостаточной информации о предпочтениях пользователя."
      ]
    }
  ],
  "metadata": {
    "colab": {
      "provenance": []
    },
    "kernelspec": {
      "display_name": "Python 3 (ipykernel)",
      "language": "python",
      "name": "python3"
    },
    "language_info": {
      "codemirror_mode": {
        "name": "ipython",
        "version": 3
      },
      "file_extension": ".py",
      "mimetype": "text/x-python",
      "name": "python",
      "nbconvert_exporter": "python",
      "pygments_lexer": "ipython3",
      "version": "3.9.18"
    }
  },
  "nbformat": 4,
  "nbformat_minor": 5
}
